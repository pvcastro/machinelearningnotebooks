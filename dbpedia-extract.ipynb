{
 "cells": [
  {
   "cell_type": "code",
   "execution_count": 109,
   "metadata": {
    "collapsed": false
   },
   "outputs": [],
   "source": [
    "import dbpediakit as dbk\n",
    "import pandas"
   ]
  },
  {
   "cell_type": "code",
   "execution_count": 110,
   "metadata": {
    "collapsed": false
   },
   "outputs": [],
   "source": [
    "#archive_file = dbk.fetch(\"long_abstracts\", version=\"3.9\", lang=\"pt\")"
   ]
  },
  {
   "cell_type": "code",
   "execution_count": 111,
   "metadata": {
    "collapsed": false
   },
   "outputs": [
    {
     "data": {
      "text/plain": [
       "'/home/pedro.castro/data/dbpedia/long_abstracts_pt.nt.bz2'"
      ]
     },
     "execution_count": 111,
     "metadata": {},
     "output_type": "execute_result"
    }
   ],
   "source": [
    "archive_file"
   ]
  },
  {
   "cell_type": "code",
   "execution_count": 112,
   "metadata": {
    "collapsed": false
   },
   "outputs": [],
   "source": [
    "tuples = dbk.extract_text(archive_file)"
   ]
  },
  {
   "cell_type": "code",
   "execution_count": 113,
   "metadata": {
    "collapsed": false
   },
   "outputs": [
    {
     "name": "stderr",
     "output_type": "stream",
     "text": [
      "WARNING:root:Invalid line 1, skipping.\n",
      "WARNING:root:Invalid line 589, skipping.\n"
     ]
    }
   ],
   "source": [
    "df = pandas.DataFrame(tuples, columns=['id', 'title', 'text', 'lang'])"
   ]
  },
  {
   "cell_type": "code",
   "execution_count": 100,
   "metadata": {
    "collapsed": true
   },
   "outputs": [
    {
     "name": "stdout",
     "output_type": "stream",
     "text": [
      "                                                  text\n",
      "0    Anno Domini, também apresentado na sua forma a...\n",
      "1    O Anarcocapitalismo, por vezes designado por l...\n",
      "2    Na mitologia grega, Aquiles foi um herói da Gr...\n",
      "3    A Astronomia é uma ciência natural que estuda ...\n",
      "4    Anarquismo (do grego ἀναρχος, transl. anarkhos...\n",
      "5    O aquecimento global é o processo de aumento d...\n",
      "6    Públio Élio Trajano Adriano, mais conhecido ap...\n",
      "7    A América Latina (em espanhol América Latina o...\n",
      "8    A Ideia Perigosa de Darwin (em Portugal) ou A ...\n",
      "9    Albert Einstein foi um físico teórico alemão p...\n",
      "10   Agricultura é o conjunto de técnicas utilizada...\n",
      "11   Dom Afonso de Portugal era o único filho e her...\n",
      "12   A história do Afeganistão é marcada pela misci...\n",
      "13   Ananás ou abacaxi é uma planta monocotiledônea...\n",
      "14   Um algoritmo é uma sequência finita de instruç...\n",
      "15   O Afeganistão, oficialmente República Islâmica...\n",
      "16   Argentina, oficialmente República Argentina, é...\n",
      "17   A arara-azul-de-lear é uma espécie de arara da...\n",
      "18   Angola, oficialmente República de Angola, é um...\n",
      "19   A arara-azul-grande (Anodorhynchus hyacinthinu...\n",
      "20   As aves constituem uma classe de animais verte...\n",
      "21   Arqueologia (do grego, « arqué », antigo, e « ...\n",
      "22   A ararinha-azul é uma espécie de ave da famíli...\n",
      "23   Anatomia (do latim tardio anatomia) é o ramo d...\n",
      "24   Alexandre Rodrigues Ferreira foi um naturalist...\n",
      "25   Aldous Leonard Huxley foi um escritor inglês e...\n",
      "26   A Carta da Terra é uma declaração de princípio...\n",
      "27   Em computação, arquivo de som (ou arquivo sono...\n",
      "28   O Amapá é uma das 27 unidades federativas do B...\n",
      "29   O Amazonas é uma das 27 unidades federativas d...\n",
      "..                                                 ...\n",
      "474  Larry Wall é um programador, linguista e autor...\n",
      "475  Lendas urbanas, mitos urbanos ou lendas contem...\n",
      "476  A língua japonesa é o idioma falado no Japão e...\n",
      "477  Jean-Baptiste Pierre Antoine de Monet, Chevali...\n",
      "478  O lead (ou, na forma aportuguesada, lide) é, e...\n",
      "479  Linux é um termo utilizado para se referir a s...\n",
      "480  Em Física Nuclear e Física de Partículas, um l...\n",
      "481  Leonid Nicolaevitch Andreiev, nascido em 9 de ...\n",
      "482  Crescimento do número de transistores para pro...\n",
      "483  A Louveira (Cyclolobium vecchi A. Samp. ex Hoe...\n",
      "484  Na mitologia grega, Leda era rainha de Esparta...\n",
      "485  Linus Benedict Torvalds é o criador do Linux, ...\n",
      "486  O latim é uma antiga língua indo-europeia do r...\n",
      "487  A Lei de Say também conhecida como Lei de merc...\n",
      "488  Nota: Para outros significados de Maxwell, ver...\n",
      "489  Lars Onsager foi um físico-químico norueguês, ...\n",
      "490  Legião Urbana foi uma banda brasileira de rock...\n",
      "491  Luís Vaz de Camões foi um poeta de Portugal, c...\n",
      "492  A limnologia (do grego, limne - lago, e logos ...\n",
      "493  A Lógica é o estudo filosófico do raciocínio v...\n",
      "494  Lojban é uma língua artificial construída com ...\n",
      "495  Lisboa é a capital, bem como a maior e mais im...\n",
      "496  Entende-se por Teoria das Linguagens Formais e...\n",
      "497  Luiz Inácio Lula da Silva, mais conhecido como...\n",
      "498  Língua artificial é todo idioma construído e d...\n",
      "499  Louveira é um município brasileiro do estado d...\n",
      "500  Linguística é a área de estudo científico da L...\n",
      "501  Latitude é a coordenada geográfica ou geodésic...\n",
      "502  Laurence Sterne foi um escritor e clérigo angl...\n",
      "503  Patrick Lafcádio Hearn, também conhecido como ...\n",
      "\n",
      "[504 rows x 1 columns]\n"
     ]
    }
   ],
   "source": [
    "del(df['id'])\n",
    "del(df['title'])\n",
    "del(df['lang'])\n",
    "print df"
   ]
  },
  {
   "cell_type": "code",
   "execution_count": 119,
   "metadata": {
    "collapsed": false
   },
   "outputs": [],
   "source": [
    "df.to_csv('Corpus/dump_db.csv', encoding='utf-8', columns=['text'], index=False, header=False, quoting=csv.QUOTE_NONE, escapechar=' ')"
   ]
  },
  {
   "cell_type": "code",
   "execution_count": null,
   "metadata": {
    "collapsed": true
   },
   "outputs": [],
   "source": []
  }
 ],
 "metadata": {
  "kernelspec": {
   "display_name": "Python 2",
   "language": "python",
   "name": "python2"
  },
  "language_info": {
   "codemirror_mode": {
    "name": "ipython",
    "version": 2
   },
   "file_extension": ".py",
   "mimetype": "text/x-python",
   "name": "python",
   "nbconvert_exporter": "python",
   "pygments_lexer": "ipython2",
   "version": "2.7.11"
  }
 },
 "nbformat": 4,
 "nbformat_minor": 0
}
