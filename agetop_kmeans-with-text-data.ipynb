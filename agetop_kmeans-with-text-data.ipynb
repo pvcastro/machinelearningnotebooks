{
 "cells": [
  {
   "cell_type": "markdown",
   "metadata": {},
   "source": [
    "# k-means with text data"
   ]
  },
  {
   "cell_type": "markdown",
   "metadata": {},
   "source": [
    "In this assignment you will\n",
    "* Cluster Wikipedia documents using k-means\n",
    "* Explore the role of random initialization on the quality of the clustering\n",
    "* Explore how results differ after changing the number of clusters\n",
    "* Evaluate clustering, both quantitatively and qualitatively\n",
    "\n",
    "When properly executed, clustering uncovers valuable insights from a set of unlabeled documents."
   ]
  },
  {
   "cell_type": "markdown",
   "metadata": {},
   "source": [
    "**Note to Amazon EC2 users**: To conserve memory, make sure to stop all the other notebooks before running this notebook."
   ]
  },
  {
   "cell_type": "markdown",
   "metadata": {},
   "source": [
    "## Import necessary packages"
   ]
  },
  {
   "cell_type": "markdown",
   "metadata": {},
   "source": [
    "The following code block will check if you have the correct version of GraphLab Create. Any version later than 1.8.5 will do. To upgrade, read [this page](https://turi.com/download/upgrade-graphlab-create.html)."
   ]
  },
  {
   "cell_type": "code",
   "execution_count": 1,
   "metadata": {
    "collapsed": false
   },
   "outputs": [
    {
     "name": "stderr",
     "output_type": "stream",
     "text": [
      "[INFO] graphlab.cython.cy_server: GraphLab Create v2.1 started. Logging: /tmp/graphlab_server_1476368187.log\n",
      "INFO:graphlab.cython.cy_server:GraphLab Create v2.1 started. Logging: /tmp/graphlab_server_1476368187.log\n"
     ]
    },
    {
     "name": "stdout",
     "output_type": "stream",
     "text": [
      "This non-commercial license of GraphLab Create for academic use is assigned to pvcastro@gmail.com and will expire on September 03, 2017.\n"
     ]
    }
   ],
   "source": [
    "import graphlab\n",
    "import matplotlib.pyplot as plt\n",
    "import numpy as np\n",
    "import sys\n",
    "import os\n",
    "import re\n",
    "from scipy.sparse import csr_matrix\n",
    "\n",
    "%matplotlib inline\n",
    "\n",
    "'''Check GraphLab Create version'''\n",
    "from distutils.version import StrictVersion\n",
    "assert (StrictVersion(graphlab.version) >= StrictVersion('1.8.5')), 'GraphLab Create must be version 1.8.5 or later.'"
   ]
  },
  {
   "cell_type": "markdown",
   "metadata": {},
   "source": [
    "## Load data, extract features"
   ]
  },
  {
   "cell_type": "markdown",
   "metadata": {},
   "source": [
    "To work with text data, we must first convert the documents into numerical features. As in the first assignment, let's extract TF-IDF features for each article."
   ]
  },
  {
   "cell_type": "code",
   "execution_count": 2,
   "metadata": {
    "collapsed": false
   },
   "outputs": [
    {
     "data": {
      "text/html": [
       "<pre>Finished parsing file /media/discoD/Coursera/Data Science/arquivo.json</pre>"
      ],
      "text/plain": [
       "Finished parsing file /media/discoD/Coursera/Data Science/arquivo.json"
      ]
     },
     "metadata": {},
     "output_type": "display_data"
    },
    {
     "data": {
      "text/html": [
       "<pre>Parsing completed. Parsed 1 lines in 4.2849 secs.</pre>"
      ],
      "text/plain": [
       "Parsing completed. Parsed 1 lines in 4.2849 secs."
      ]
     },
     "metadata": {},
     "output_type": "display_data"
    }
   ],
   "source": [
    "arquivos = graphlab.SFrame.read_json('arquivo.json')"
   ]
  },
  {
   "cell_type": "code",
   "execution_count": 3,
   "metadata": {
    "collapsed": true
   },
   "outputs": [],
   "source": [
    "def clean_text(text):\n",
    "    list_of_cleaning_signs = ['\\x0c', '\\n']\n",
    "    for sign in list_of_cleaning_signs:\n",
    "        text = text.replace(sign, ' ')\n",
    "    clean_text = re.sub('[^a-zA-Z]+', ' ', text)\n",
    "    return clean_text.lower()"
   ]
  },
  {
   "cell_type": "code",
   "execution_count": 4,
   "metadata": {
    "collapsed": false
   },
   "outputs": [],
   "source": [
    "arquivos['clean'] = arquivos['api_Arquivo_bn'].apply(lambda x: clean_text(x))"
   ]
  },
  {
   "cell_type": "code",
   "execution_count": 5,
   "metadata": {
    "collapsed": false
   },
   "outputs": [],
   "source": [
    "arquivos['tf_idf'] = graphlab.text_analytics.tf_idf(arquivos['clean'])"
   ]
  },
  {
   "cell_type": "markdown",
   "metadata": {},
   "source": [
    "For the remainder of the assignment, we will use sparse matrices. Sparse matrices are matrices that have a small number of nonzero entries. A good data structure for sparse matrices would only store the nonzero entries to save space and speed up computation. SciPy provides a highly-optimized library for sparse matrices. Many matrix operations available for NumPy arrays are also available for SciPy sparse matrices.\n",
    "\n",
    "We first convert the TF-IDF column (in dictionary format) into the SciPy sparse matrix format. We included plenty of comments for the curious; if you'd like, you may skip the next block and treat the function as a black box."
   ]
  },
  {
   "cell_type": "code",
   "execution_count": 6,
   "metadata": {
    "collapsed": false
   },
   "outputs": [],
   "source": [
    "def sframe_to_scipy(x, column_name):\n",
    "    '''\n",
    "    Convert a dictionary column of an SFrame into a sparse matrix format where\n",
    "    each (row_id, column_id, value) triple corresponds to the value of\n",
    "    x[row_id][column_id], where column_id is a key in the dictionary.\n",
    "       \n",
    "    Example\n",
    "    >>> sparse_matrix, map_key_to_index = sframe_to_scipy(sframe, column_name)\n",
    "    '''\n",
    "    assert x[column_name].dtype() == dict, \\\n",
    "        'The chosen column must be dict type, representing sparse data.'\n",
    "        \n",
    "    # Create triples of (row_id, feature_id, count).\n",
    "    # 1. Add a row number.\n",
    "    x = x.add_row_number()\n",
    "    # 2. Stack will transform x to have a row for each unique (row, key) pair.\n",
    "    x = x.stack(column_name, ['feature', 'value'])\n",
    "\n",
    "    # Map words into integers using a OneHotEncoder feature transformation.\n",
    "    f = graphlab.feature_engineering.OneHotEncoder(features=['feature'])\n",
    "    # 1. Fit the transformer using the above data.\n",
    "    f.fit(x)\n",
    "    # 2. The transform takes 'feature' column and adds a new column 'feature_encoding'.\n",
    "    x = f.transform(x)\n",
    "    # 3. Get the feature mapping.\n",
    "    mapping = f['feature_encoding']\n",
    "    # 4. Get the feature id to use for each key.\n",
    "    x['feature_id'] = x['encoded_features'].dict_keys().apply(lambda x: x[0])\n",
    "\n",
    "    # Create numpy arrays that contain the data for the sparse matrix.\n",
    "    i = np.array(x['id'])\n",
    "    j = np.array(x['feature_id'])\n",
    "    v = np.array(x['value'])\n",
    "    v = v.astype(float)\n",
    "    v = np.nan_to_num(v)\n",
    "    width = x['id'].max() + 1\n",
    "    height = x['feature_id'].max() + 1\n",
    "\n",
    "    # Create a sparse matrix.\n",
    "    mat = csr_matrix((v, (i, j)), shape=(width, height))\n",
    "\n",
    "    return mat, mapping"
   ]
  },
  {
   "cell_type": "code",
   "execution_count": 7,
   "metadata": {
    "collapsed": false
   },
   "outputs": [],
   "source": [
    "# The conversion will take about a minute or two.\n",
    "tf_idf, map_index_to_word = sframe_to_scipy(arquivos, 'tf_idf')"
   ]
  },
  {
   "cell_type": "code",
   "execution_count": 8,
   "metadata": {
    "collapsed": false
   },
   "outputs": [
    {
     "data": {
      "text/plain": [
       "<129007x351506 sparse matrix of type '<type 'numpy.float64'>'\n",
       "\twith 12818955 stored elements in Compressed Sparse Row format>"
      ]
     },
     "execution_count": 8,
     "metadata": {},
     "output_type": "execute_result"
    }
   ],
   "source": [
    "tf_idf"
   ]
  },
  {
   "cell_type": "markdown",
   "metadata": {},
   "source": [
    "The above matrix contains a TF-IDF score for each of the 59071 pages in the data set and each of the 547979 unique words."
   ]
  },
  {
   "cell_type": "markdown",
   "metadata": {},
   "source": [
    "## Normalize all vectors"
   ]
  },
  {
   "cell_type": "markdown",
   "metadata": {},
   "source": [
    "As discussed in the previous assignment, Euclidean distance can be a poor metric of similarity between documents, as it unfairly penalizes long articles. For a reasonable assessment of similarity, we should disregard the length information and use length-agnostic metrics, such as cosine distance.\n",
    "\n",
    "The k-means algorithm does not directly work with cosine distance, so we take an alternative route to remove length information: we normalize all vectors to be unit length. It turns out that Euclidean distance closely mimics cosine distance when all vectors are unit length. In particular, the squared Euclidean distance between any two vectors of length one is directly proportional to their cosine distance.\n",
    "\n",
    "We can prove this as follows. Let $\\mathbf{x}$ and $\\mathbf{y}$ be normalized vectors, i.e. unit vectors, so that $\\|\\mathbf{x}\\|=\\|\\mathbf{y}\\|=1$. Write the squared Euclidean distance as the dot product of $(\\mathbf{x} - \\mathbf{y})$ to itself:\n",
    "\\begin{align*}\n",
    "\\|\\mathbf{x} - \\mathbf{y}\\|^2 &= (\\mathbf{x} - \\mathbf{y})^T(\\mathbf{x} - \\mathbf{y})\\\\\n",
    "                              &= (\\mathbf{x}^T \\mathbf{x}) - 2(\\mathbf{x}^T \\mathbf{y}) + (\\mathbf{y}^T \\mathbf{y})\\\\\n",
    "                              &= \\|\\mathbf{x}\\|^2 - 2(\\mathbf{x}^T \\mathbf{y}) + \\|\\mathbf{y}\\|^2\\\\\n",
    "                              &= 2 - 2(\\mathbf{x}^T \\mathbf{y})\\\\\n",
    "                              &= 2(1 - (\\mathbf{x}^T \\mathbf{y}))\\\\\n",
    "                              &= 2\\left(1 - \\frac{\\mathbf{x}^T \\mathbf{y}}{\\|\\mathbf{x}\\|\\|\\mathbf{y}\\|}\\right)\\\\\n",
    "                              &= 2\\left[\\text{cosine distance}\\right]\n",
    "\\end{align*}\n",
    "\n",
    "This tells us that two **unit vectors** that are close in Euclidean distance are also close in cosine distance. Thus, the k-means algorithm (which naturally uses Euclidean distances) on normalized vectors will produce the same results as clustering using cosine distance as a distance metric.\n",
    "\n",
    "We import the [`normalize()` function](http://scikit-learn.org/stable/modules/generated/sklearn.preprocessing.normalize.html) from scikit-learn to normalize all vectors to unit length."
   ]
  },
  {
   "cell_type": "code",
   "execution_count": 9,
   "metadata": {
    "collapsed": false
   },
   "outputs": [],
   "source": [
    "from sklearn.preprocessing import normalize\n",
    "tf_idf = normalize(tf_idf)"
   ]
  },
  {
   "cell_type": "markdown",
   "metadata": {},
   "source": [
    "## Implement k-means"
   ]
  },
  {
   "cell_type": "markdown",
   "metadata": {},
   "source": [
    "Let us implement the k-means algorithm. First, we choose an initial set of centroids. A common practice is to choose randomly from the data points.\n",
    "\n",
    "**Note:** We specify a seed here, so that everyone gets the same answer. In practice, we highly recommend to use different seeds every time (for instance, by using the current timestamp)."
   ]
  },
  {
   "cell_type": "code",
   "execution_count": 10,
   "metadata": {
    "collapsed": true
   },
   "outputs": [],
   "source": [
    "def get_initial_centroids(data, k, seed=None):\n",
    "    '''Randomly choose k data points as initial centroids'''\n",
    "    if seed is not None: # useful for obtaining consistent results\n",
    "        np.random.seed(seed)\n",
    "    n = data.shape[0] # number of data points\n",
    "        \n",
    "    # Pick K indices from range [0, N).\n",
    "    rand_indices = np.random.randint(0, n, k)\n",
    "    \n",
    "    # Keep centroids as dense format, as many entries will be nonzero due to averaging.\n",
    "    # As long as at least one document in a cluster contains a word,\n",
    "    # it will carry a nonzero weight in the TF-IDF vector of the centroid.\n",
    "    centroids = data[rand_indices,:].toarray()\n",
    "    \n",
    "    return centroids"
   ]
  },
  {
   "cell_type": "markdown",
   "metadata": {},
   "source": [
    "After initialization, the k-means algorithm iterates between the following two steps:\n",
    "1. Assign each data point to the closest centroid.\n",
    "$$\n",
    "z_i \\gets \\mathrm{argmin}_j \\|\\mu_j - \\mathbf{x}_i\\|^2\n",
    "$$\n",
    "2. Revise centroids as the mean of the assigned data points.\n",
    "$$\n",
    "\\mu_j \\gets \\frac{1}{n_j}\\sum_{i:z_i=j} \\mathbf{x}_i\n",
    "$$"
   ]
  },
  {
   "cell_type": "markdown",
   "metadata": {},
   "source": [
    "In pseudocode, we iteratively do the following:\n",
    "```\n",
    "cluster_assignment = assign_clusters(data, centroids)\n",
    "centroids = revise_centroids(data, k, cluster_assignment)\n",
    "```"
   ]
  },
  {
   "cell_type": "markdown",
   "metadata": {},
   "source": [
    "### Assigning clusters"
   ]
  },
  {
   "cell_type": "markdown",
   "metadata": {},
   "source": [
    "How do we implement Step 1 of the main k-means loop above? First import `pairwise_distances` function from scikit-learn, which calculates Euclidean distances between rows of given arrays. See [this documentation](http://scikit-learn.org/stable/modules/generated/sklearn.metrics.pairwise.pairwise_distances.html) for more information.\n",
    "\n",
    "For the sake of demonstration, let's look at documents 100 through 102 as query documents and compute the distances between each of these documents and every other document in the corpus. In the k-means algorithm, we will have to compute pairwise distances between the set of centroids and the set of documents."
   ]
  },
  {
   "cell_type": "code",
   "execution_count": 11,
   "metadata": {
    "collapsed": false,
    "scrolled": true
   },
   "outputs": [
    {
     "name": "stdout",
     "output_type": "stream",
     "text": [
      "[[ 1.40002344  1.40618395]\n",
      " [ 1.40173367  1.41330177]\n",
      " [ 1.40336133  1.4117423 ]\n",
      " ..., \n",
      " [ 1.40925627  1.40258973]\n",
      " [ 1.41027641  1.40957943]\n",
      " [ 1.40925224  1.40643167]]\n"
     ]
    }
   ],
   "source": [
    "from sklearn.metrics import pairwise_distances\n",
    "\n",
    "# Get the TF-IDF vectors for documents 100 through 102.\n",
    "queries = tf_idf[100:102,:]\n",
    "\n",
    "# Compute pairwise distances from every data point to each query vector.\n",
    "dist = pairwise_distances(tf_idf, queries, metric='euclidean')\n",
    "\n",
    "print dist"
   ]
  },
  {
   "cell_type": "markdown",
   "metadata": {},
   "source": [
    "More formally, `dist[i,j]` is assigned the distance between the `i`th row of `X` (i.e., `X[i,:]`) and the `j`th row of `Y` (i.e., `Y[j,:]`)."
   ]
  },
  {
   "cell_type": "markdown",
   "metadata": {},
   "source": [
    "**Checkpoint:** For a moment, suppose that we initialize three centroids with the first 3 rows of `tf_idf`. Write code to compute distances from each of the centroids to all data points in `tf_idf`. Then find the distance between row 430 of `tf_idf` and the second centroid and save it to `dist`."
   ]
  },
  {
   "cell_type": "code",
   "execution_count": 12,
   "metadata": {
    "collapsed": false
   },
   "outputs": [
    {
     "name": "stdout",
     "output_type": "stream",
     "text": [
      "1.39343016098\n"
     ]
    }
   ],
   "source": [
    "# Students should write code here\n",
    "first_three = tf_idf[:3,:]\n",
    "distances = pairwise_distances(tf_idf, first_three, metric='euclidean')\n",
    "dist = distances[430, 1]\n",
    "print dist"
   ]
  },
  {
   "cell_type": "markdown",
   "metadata": {},
   "source": [
    "**Checkpoint:** Next, given the pairwise distances, we take the minimum of the distances for each data point. Fittingly, NumPy provides an `argmin` function. See [this documentation](http://docs.scipy.org/doc/numpy-1.10.1/reference/generated/numpy.argmin.html) for details.\n",
    "\n",
    "Read the documentation and write code to produce a 1D array whose i-th entry indicates the centroid that is the closest to the i-th data point. Use the list of distances from the previous checkpoint and save them as `distances`. The value 0 indicates closeness to the first centroid, 1 indicates closeness to the second centroid, and so forth. Save this array as `closest_cluster`.\n",
    "\n",
    "**Hint:** the resulting array should be as long as the number of data points."
   ]
  },
  {
   "cell_type": "code",
   "execution_count": 13,
   "metadata": {
    "collapsed": false
   },
   "outputs": [
    {
     "name": "stdout",
     "output_type": "stream",
     "text": [
      "[[ 0.          1.37705113  1.32579987]\n",
      " [ 1.37705113  0.          1.38727619]\n",
      " [ 1.32579987  1.38727619  0.        ]\n",
      " ..., \n",
      " [ 1.3847262   1.40973206  1.37545166]\n",
      " [ 1.40008444  1.41195603  1.41148521]\n",
      " [ 1.40127991  1.41215295  1.40836539]]\n",
      "[0 1 2 ..., 2 0 0]\n"
     ]
    }
   ],
   "source": [
    "# Students should write code here\n",
    "print distances\n",
    "closest_cluster = np.argmin(distances, 1)\n",
    "print closest_cluster"
   ]
  },
  {
   "cell_type": "markdown",
   "metadata": {},
   "source": [
    "**Checkpoint:** Let's put these steps together.  First, initialize three centroids with the first 3 rows of `tf_idf`. Then, compute distances from each of the centroids to all data points in `tf_idf`. Finally, use these distance calculations to compute cluster assignments and assign them to `cluster_assignment`."
   ]
  },
  {
   "cell_type": "code",
   "execution_count": 14,
   "metadata": {
    "collapsed": true
   },
   "outputs": [],
   "source": [
    "# Students should write code here\n",
    "first_three = tf_idf[:3,:]\n",
    "distances = pairwise_distances(tf_idf, first_three, metric='euclidean')\n",
    "cluster_assignment = np.argmin(distances, 1)"
   ]
  },
  {
   "cell_type": "markdown",
   "metadata": {},
   "source": [
    "Now we are ready to fill in the blanks in this function:"
   ]
  },
  {
   "cell_type": "code",
   "execution_count": 15,
   "metadata": {
    "collapsed": true
   },
   "outputs": [],
   "source": [
    "def assign_clusters(data, centroids):\n",
    "    \n",
    "    # Compute distances between each data point and the set of centroids:\n",
    "    # Fill in the blank (RHS only)\n",
    "    distances_from_centroids = pairwise_distances(data, centroids, metric='euclidean')\n",
    "    \n",
    "    # Compute cluster assignments for each data point:\n",
    "    # Fill in the blank (RHS only)\n",
    "    cluster_assignment = np.argmin(distances_from_centroids, 1)\n",
    "    \n",
    "    return cluster_assignment"
   ]
  },
  {
   "cell_type": "markdown",
   "metadata": {},
   "source": [
    "**Checkpoint**. For the last time, let us check if Step 1 was implemented correctly. With rows 0, 2, 4, and 6 of `tf_idf` as an initial set of centroids, we assign cluster labels to rows 0, 10, 20, ..., and 90 of `tf_idf`. The resulting cluster labels should be `[0, 1, 1, 0, 0, 2, 0, 2, 2, 1]`."
   ]
  },
  {
   "cell_type": "code",
   "execution_count": 16,
   "metadata": {
    "collapsed": true
   },
   "outputs": [],
   "source": [
    "def revise_centroids(data, k, cluster_assignment):\n",
    "    new_centroids = []\n",
    "    for i in xrange(k):\n",
    "        # Select all data points that belong to cluster i. Fill in the blank (RHS only)\n",
    "        member_data_points = data[cluster_assignment==i]\n",
    "        # Compute the mean of the data points. Fill in the blank (RHS only)\n",
    "        centroid = member_data_points.mean(axis=0)\n",
    "        \n",
    "        # Convert numpy.matrix type to numpy.ndarray type\n",
    "        centroid = centroid.A1\n",
    "        new_centroids.append(centroid)\n",
    "    new_centroids = np.array(new_centroids)\n",
    "    \n",
    "    return new_centroids"
   ]
  },
  {
   "cell_type": "markdown",
   "metadata": {},
   "source": [
    "### Assessing convergence"
   ]
  },
  {
   "cell_type": "markdown",
   "metadata": {},
   "source": [
    "How can we tell if the k-means algorithm is converging? We can look at the cluster assignments and see if they stabilize over time. In fact, we'll be running the algorithm until the cluster assignments stop changing at all. To be extra safe, and to assess the clustering performance, we'll be looking at an additional criteria: the sum of all squared distances between data points and centroids. This is defined as\n",
    "$$\n",
    "J(\\mathcal{Z},\\mu) = \\sum_{j=1}^k \\sum_{i:z_i = j} \\|\\mathbf{x}_i - \\mu_j\\|^2.\n",
    "$$\n",
    "The smaller the distances, the more homogeneous the clusters are. In other words, we'd like to have \"tight\" clusters."
   ]
  },
  {
   "cell_type": "code",
   "execution_count": 17,
   "metadata": {
    "collapsed": true
   },
   "outputs": [],
   "source": [
    "def compute_heterogeneity(data, k, centroids, cluster_assignment):\n",
    "    \n",
    "    heterogeneity = 0.0\n",
    "    for i in xrange(k):\n",
    "        \n",
    "        # Select all data points that belong to cluster i. Fill in the blank (RHS only)\n",
    "        member_data_points = data[cluster_assignment==i, :]\n",
    "        \n",
    "        if member_data_points.shape[0] > 0: # check if i-th cluster is non-empty\n",
    "            # Compute distances from centroid to data points (RHS only)\n",
    "            distances = pairwise_distances(member_data_points, [centroids[i]], metric='euclidean')\n",
    "            squared_distances = distances**2\n",
    "            heterogeneity += np.sum(squared_distances)\n",
    "        \n",
    "    return heterogeneity"
   ]
  },
  {
   "cell_type": "markdown",
   "metadata": {},
   "source": [
    "### Combining into a single function"
   ]
  },
  {
   "cell_type": "markdown",
   "metadata": {},
   "source": [
    "Once the two k-means steps have been implemented, as well as our heterogeneity metric we wish to monitor, it is only a matter of putting these functions together to write a k-means algorithm that\n",
    "\n",
    "* Repeatedly performs Steps 1 and 2\n",
    "* Tracks convergence metrics\n",
    "* Stops if either no assignment changed or we reach a certain number of iterations."
   ]
  },
  {
   "cell_type": "code",
   "execution_count": 18,
   "metadata": {
    "collapsed": true
   },
   "outputs": [],
   "source": [
    "# Fill in the blanks\n",
    "def kmeans(data, k, initial_centroids, maxiter, record_heterogeneity=None, verbose=False):\n",
    "    '''This function runs k-means on given data and initial set of centroids.\n",
    "       maxiter: maximum number of iterations to run.\n",
    "       record_heterogeneity: (optional) a list, to store the history of heterogeneity as function of iterations\n",
    "                             if None, do not store the history.\n",
    "       verbose: if True, print how many data points changed their cluster labels in each iteration'''\n",
    "    centroids = initial_centroids[:]\n",
    "    prev_cluster_assignment = None\n",
    "    \n",
    "    for itr in xrange(maxiter):        \n",
    "        if verbose:\n",
    "            print(itr)\n",
    "        \n",
    "        # 1. Make cluster assignments using nearest centroids\n",
    "        # YOUR CODE HERE\n",
    "        cluster_assignment = assign_clusters(data, centroids)\n",
    "            \n",
    "        # 2. Compute a new centroid for each of the k clusters, averaging all data points assigned to that cluster.\n",
    "        # YOUR CODE HERE\n",
    "        centroids = revise_centroids(data, k, cluster_assignment)\n",
    "            \n",
    "        # Check for convergence: if none of the assignments changed, stop\n",
    "        if prev_cluster_assignment is not None and \\\n",
    "          (prev_cluster_assignment==cluster_assignment).all():\n",
    "            break\n",
    "        \n",
    "        # Print number of new assignments \n",
    "        if prev_cluster_assignment is not None:\n",
    "            num_changed = np.sum(prev_cluster_assignment!=cluster_assignment)\n",
    "            if verbose:\n",
    "                print('    {0:5d} elements changed their cluster assignment.'.format(num_changed))   \n",
    "        \n",
    "        # Record heterogeneity convergence metric\n",
    "        if record_heterogeneity is not None:\n",
    "            # YOUR CODE HERE\n",
    "            score = compute_heterogeneity(data, k, centroids, cluster_assignment)\n",
    "            record_heterogeneity.append(score)\n",
    "        \n",
    "        prev_cluster_assignment = cluster_assignment[:]\n",
    "        \n",
    "    return centroids, cluster_assignment"
   ]
  },
  {
   "cell_type": "markdown",
   "metadata": {},
   "source": [
    "## Plotting convergence metric"
   ]
  },
  {
   "cell_type": "markdown",
   "metadata": {},
   "source": [
    "We can use the above function to plot the convergence metric across iterations."
   ]
  },
  {
   "cell_type": "code",
   "execution_count": 19,
   "metadata": {
    "collapsed": false
   },
   "outputs": [],
   "source": [
    "def plot_heterogeneity(heterogeneity, k):\n",
    "    plt.figure(figsize=(7,4))\n",
    "    plt.plot(heterogeneity, linewidth=4)\n",
    "    plt.xlabel('# Iterations')\n",
    "    plt.ylabel('Heterogeneity')\n",
    "    plt.title('Heterogeneity of clustering over time, K={0:d}'.format(k))\n",
    "    plt.rcParams.update({'font.size': 16})\n",
    "    plt.tight_layout()"
   ]
  },
  {
   "cell_type": "markdown",
   "metadata": {},
   "source": [
    "Let's consider running k-means with K=3 clusters for a maximum of 400 iterations, recording cluster heterogeneity at every step.  Then, let's plot the heterogeneity over iterations using the plotting function above."
   ]
  },
  {
   "cell_type": "code",
   "execution_count": 20,
   "metadata": {
    "collapsed": false,
    "scrolled": false
   },
   "outputs": [
    {
     "name": "stdout",
     "output_type": "stream",
     "text": [
      "0\n",
      "1\n",
      "    40379 elements changed their cluster assignment.\n",
      "2\n",
      "    10300 elements changed their cluster assignment.\n",
      "3\n",
      "     9884 elements changed their cluster assignment.\n",
      "4\n",
      "     4690 elements changed their cluster assignment.\n",
      "5\n",
      "      700 elements changed their cluster assignment.\n",
      "6\n",
      "      128 elements changed their cluster assignment.\n",
      "7\n",
      "       51 elements changed their cluster assignment.\n",
      "8\n",
      "       16 elements changed their cluster assignment.\n",
      "9\n",
      "        7 elements changed their cluster assignment.\n",
      "10\n",
      "        5 elements changed their cluster assignment.\n",
      "11\n",
      "        2 elements changed their cluster assignment.\n",
      "12\n",
      "        2 elements changed their cluster assignment.\n",
      "13\n",
      "        1 elements changed their cluster assignment.\n",
      "14\n"
     ]
    },
    {
     "data": {
      "image/png": "[encoded data removed]",
      "text/plain": [
       "<matplotlib.figure.Figure at 0x7fe0287c38d0>"
      ]
     },
     "metadata": {},
     "output_type": "display_data"
    }
   ],
   "source": [
    "k = 3\n",
    "heterogeneity = []\n",
    "initial_centroids = get_initial_centroids(tf_idf, k, seed=0)\n",
    "centroids, cluster_assignment = kmeans(tf_idf, k, initial_centroids, maxiter=400,\n",
    "                                       record_heterogeneity=heterogeneity, verbose=True)\n",
    "plot_heterogeneity(heterogeneity, k)"
   ]
  },
  {
   "cell_type": "code",
   "execution_count": 21,
   "metadata": {
    "collapsed": false
   },
   "outputs": [
    {
     "data": {
      "text/plain": [
       "array([ 8996, 86510, 33501])"
      ]
     },
     "execution_count": 21,
     "metadata": {},
     "output_type": "execute_result"
    }
   ],
   "source": [
    "np.bincount(cluster_assignment)"
   ]
  },
  {
   "cell_type": "markdown",
   "metadata": {},
   "source": [
    "## Beware of local maxima"
   ]
  },
  {
   "cell_type": "markdown",
   "metadata": {},
   "source": [
    "One weakness of k-means is that it tends to get stuck in a local minimum. To see this, let us run k-means multiple times, with different initial centroids created using different random seeds.\n",
    "\n",
    "**Note:** Again, in practice, you should set different seeds for every run. We give you a list of seeds for this assignment so that everyone gets the same answer.\n",
    "\n",
    "This may take several minutes to run."
   ]
  },
  {
   "cell_type": "code",
   "execution_count": 22,
   "metadata": {
    "collapsed": false,
    "scrolled": false
   },
   "outputs": [
    {
     "name": "stdout",
     "output_type": "stream",
     "text": [
      "seed=000000, heterogeneity=125289.30028\n",
      "[ 8590 17944 22665  8131  5394 53727  4560  1642  3282  3072]\n",
      "seed=020000, heterogeneity=125379.39333\n",
      "[48966 16744  3074  8624 21600  7482  3244  2671 11321  5281]\n",
      "seed=040000, heterogeneity=125424.21339\n",
      "[ 5169 16367  9805 16416  7655 10124 34357  7251 13370  8493]\n",
      "seed=060000, heterogeneity=125316.70938\n",
      "[ 3283  5162  8704  5181 10606 23327 47925  4250  3361 17208]\n",
      "seed=080000, heterogeneity=125387.45481\n",
      "[15835 36673  5621  5118  8531  3140 15179 18141  7140 13629]\n",
      "seed=100000, heterogeneity=125329.50974\n",
      "[ 4541  7702  3258  3202  5540 17719  8630 48278  4518 25619]\n",
      "seed=120000, heterogeneity=125289.19867\n",
      "[ 4565  3289 50336  5406 18222  3345  7159  2945 24999  8741]\n",
      "129.996273041\n"
     ]
    }
   ],
   "source": [
    "k = 10\n",
    "heterogeneity = {}\n",
    "import time\n",
    "start = time.time()\n",
    "for seed in [0, 20000, 40000, 60000, 80000, 100000, 120000]:\n",
    "    initial_centroids = get_initial_centroids(tf_idf, k, seed)\n",
    "    centroids, cluster_assignment = kmeans(tf_idf, k, initial_centroids, maxiter=400,\n",
    "                                           record_heterogeneity=None, verbose=False)\n",
    "    # To save time, compute heterogeneity only once in the end\n",
    "    heterogeneity[seed] = compute_heterogeneity(tf_idf, k, centroids, cluster_assignment)\n",
    "    print('seed={0:06d}, heterogeneity={1:.5f}'.format(seed, heterogeneity[seed]))\n",
    "    print np.bincount(cluster_assignment)\n",
    "    sys.stdout.flush()\n",
    "end = time.time()\n",
    "print(end-start)"
   ]
  },
  {
   "cell_type": "markdown",
   "metadata": {},
   "source": [
    "Notice the variation in heterogeneity for different initializations. This indicates that k-means sometimes gets stuck at a bad local minimum."
   ]
  },
  {
   "cell_type": "markdown",
   "metadata": {},
   "source": [
    "One effective way to counter this tendency is to use **k-means++** to provide a smart initialization. This method tries to spread out the initial set of centroids so that they are not too close together. It is known to improve the quality of local optima and lower average runtime."
   ]
  },
  {
   "cell_type": "code",
   "execution_count": 23,
   "metadata": {
    "collapsed": true
   },
   "outputs": [],
   "source": [
    "def smart_initialize(data, k, seed=None):\n",
    "    '''Use k-means++ to initialize a good set of centroids'''\n",
    "    if seed is not None: # useful for obtaining consistent results\n",
    "        np.random.seed(seed)\n",
    "    centroids = np.zeros((k, data.shape[1]))\n",
    "    \n",
    "    # Randomly choose the first centroid.\n",
    "    # Since we have no prior knowledge, choose uniformly at random\n",
    "    idx = np.random.randint(data.shape[0])\n",
    "    centroids[0] = data[idx,:].toarray()\n",
    "    # Compute distances from the first centroid chosen to all the other data points\n",
    "    squared_distances = pairwise_distances(data, centroids[0:1], metric='euclidean').flatten()**2\n",
    "    \n",
    "    for i in xrange(1, k):\n",
    "        # Choose the next centroid randomly, so that the probability for each data point to be chosen\n",
    "        # is directly proportional to its squared distance from the nearest centroid.\n",
    "        # Roughtly speaking, a new centroid should be as far as from ohter centroids as possible.\n",
    "        idx = np.random.choice(data.shape[0], 1, p=squared_distances/sum(squared_distances))\n",
    "        centroids[i] = data[idx,:].toarray()\n",
    "        # Now compute distances from the centroids to all data points\n",
    "        squared_distances = np.min(pairwise_distances(data, centroids[0:i+1], metric='euclidean')**2,axis=1)\n",
    "    \n",
    "    return centroids"
   ]
  },
  {
   "cell_type": "markdown",
   "metadata": {},
   "source": [
    "Let's now rerun k-means with 10 clusters using the same set of seeds, but always using k-means++ to initialize the algorithm.\n",
    "\n",
    "This may take several minutes to run."
   ]
  },
  {
   "cell_type": "code",
   "execution_count": 24,
   "metadata": {
    "collapsed": false
   },
   "outputs": [
    {
     "name": "stdout",
     "output_type": "stream",
     "text": [
      "seed=000000, heterogeneity=125438.75342\n",
      "seed=020000, heterogeneity=125380.58161\n",
      "seed=040000, heterogeneity=125367.75603\n",
      "seed=060000, heterogeneity=125326.08860\n",
      "seed=080000, heterogeneity=125373.09888\n",
      "seed=100000, heterogeneity=125388.04140\n",
      "seed=120000, heterogeneity=125294.13766\n",
      "228.857429028\n"
     ]
    }
   ],
   "source": [
    "k = 10\n",
    "heterogeneity_smart = {}\n",
    "start = time.time()\n",
    "for seed in [0, 20000, 40000, 60000, 80000, 100000, 120000]:\n",
    "    initial_centroids = smart_initialize(tf_idf, k, seed)\n",
    "    centroids, cluster_assignment = kmeans(tf_idf, k, initial_centroids, maxiter=400,\n",
    "                                           record_heterogeneity=None, verbose=False)\n",
    "    # To save time, compute heterogeneity only once in the end\n",
    "    heterogeneity_smart[seed] = compute_heterogeneity(tf_idf, k, centroids, cluster_assignment)\n",
    "    print('seed={0:06d}, heterogeneity={1:.5f}'.format(seed, heterogeneity_smart[seed]))\n",
    "    sys.stdout.flush()\n",
    "end = time.time()\n",
    "print(end-start)"
   ]
  },
  {
   "cell_type": "markdown",
   "metadata": {},
   "source": [
    "Let's compare the set of cluster heterogeneities we got from our 7 restarts of k-means using random initialization compared to the 7 restarts of k-means using k-means++ as a smart initialization.\n",
    "\n",
    "The following code produces a [box plot](http://matplotlib.org/api/pyplot_api.html) for each of these methods, indicating the spread of values produced by each method."
   ]
  },
  {
   "cell_type": "code",
   "execution_count": 25,
   "metadata": {
    "collapsed": false
   },
   "outputs": [
    {
     "data": {
      "image/png": "[encoded data removed]",
      "text/plain": [
       "<matplotlib.figure.Figure at 0x7fe00c3be790>"
      ]
     },
     "metadata": {},
     "output_type": "display_data"
    }
   ],
   "source": [
    "plt.figure(figsize=(8,5))\n",
    "plt.boxplot([heterogeneity.values(), heterogeneity_smart.values()], vert=False)\n",
    "plt.yticks([1, 2], ['k-means', 'k-means++'])\n",
    "plt.rcParams.update({'font.size': 16})\n",
    "plt.tight_layout()"
   ]
  },
  {
   "cell_type": "markdown",
   "metadata": {},
   "source": [
    "A few things to notice from the box plot:\n",
    "* On average, k-means++ produces a better clustering than Random initialization.\n",
    "* Variation in clustering quality is smaller for k-means++."
   ]
  },
  {
   "cell_type": "markdown",
   "metadata": {},
   "source": [
    "**In general, you should run k-means at least a few times with different initializations and then return the run resulting in the lowest heterogeneity.** Let us write a function that runs k-means multiple times and picks the best run that minimizes heterogeneity. The function accepts an optional list of seed values to be used for the multiple runs; if no such list is provided, the current UTC time is used as seed values."
   ]
  },
  {
   "cell_type": "markdown",
   "metadata": {},
   "source": [
    "## How to choose K"
   ]
  },
  {
   "cell_type": "markdown",
   "metadata": {},
   "source": [
    "Since we are measuring the tightness of the clusters, a higher value of K reduces the possible heterogeneity metric by definition.  For example, if we have N data points and set K=N clusters, then we could have 0 cluster heterogeneity by setting the N centroids equal to the values of the N data points. (Note: Not all runs for larger K will result in lower heterogeneity than a single run with smaller K due to local optima.)  Let's explore this general trend for ourselves by performing the following analysis."
   ]
  },
  {
   "cell_type": "markdown",
   "metadata": {},
   "source": [
    "Use the `kmeans_multiple_runs` function to run k-means with five different values of K.  For each K, use k-means++ and multiple runs to pick the best solution.  In what follows, we consider K=2,10,25,50,100 and 7 restarts for each setting.\n",
    "\n",
    "**IMPORTANT: The code block below will take about one hour to finish. We highly suggest that you use the arrays that we have computed for you.**\n",
    "\n",
    "Side note: In practice, a good implementation of k-means would utilize parallelism to run multiple runs of k-means at once. For an example, see [scikit-learn's KMeans](http://scikit-learn.org/stable/modules/generated/sklearn.cluster.KMeans.html)."
   ]
  },
  {
   "cell_type": "markdown",
   "metadata": {},
   "source": [
    "To use the pre-computed NumPy arrays, first download kmeans-arrays.npz as mentioned in the reading for this assignment and load them with the following code.  Make sure the downloaded file is in the same directory as this notebook."
   ]
  },
  {
   "cell_type": "markdown",
   "metadata": {},
   "source": [
    "In the above plot we show that heterogeneity goes down as we increase the number of clusters. Does this mean we should always favor a higher K? **Not at all!** As we will see in the following section, setting K too high may end up separating data points that are actually pretty alike. At the extreme, we can set individual data points to be their own clusters (K=N) and achieve zero heterogeneity, but separating each data point into its own cluster is hardly a desirable outcome. In the following section, we will learn how to detect a K set \"too large\"."
   ]
  },
  {
   "cell_type": "markdown",
   "metadata": {},
   "source": [
    "## Visualize clusters of documents"
   ]
  },
  {
   "cell_type": "markdown",
   "metadata": {},
   "source": [
    "Let's start visualizing some clustering results to see if we think the clustering makes sense.  We can use such visualizations to help us assess whether we have set K too large or too small for a given application.  Following the theme of this course, we will judge whether the clustering makes sense in the context of document analysis.\n",
    "\n",
    "What are we looking for in a good clustering of documents?\n",
    "* Documents in the same cluster should be similar.\n",
    "* Documents from different clusters should be less similar.\n",
    "\n",
    "So a bad clustering exhibits either of two symptoms:\n",
    "* Documents in a cluster have mixed content.\n",
    "* Documents with similar content are divided up and put into different clusters.\n",
    "\n",
    "To help visualize the clustering, we do the following:\n",
    "* Fetch nearest neighbors of each centroid from the set of documents assigned to that cluster. We will consider these documents as being representative of the cluster.\n",
    "* Print titles and first sentences of those nearest neighbors.\n",
    "* Print top 5 words that have highest tf-idf weights in each centroid."
   ]
  },
  {
   "cell_type": "code",
   "execution_count": 26,
   "metadata": {
    "collapsed": true
   },
   "outputs": [],
   "source": [
    "def visualize_document_clusters(arquivos, tf_idf, centroids, cluster_assignment, k, map_index_to_word, display_content=True):\n",
    "    '''wiki: original dataframe\n",
    "       tf_idf: data matrix, sparse matrix format\n",
    "       map_index_to_word: SFrame specifying the mapping betweeen words and column indices\n",
    "       display_content: if True, display 8 nearest neighbors of each centroid'''\n",
    "    \n",
    "    print('==========================================================')\n",
    "\n",
    "    # Visualize each cluster c\n",
    "    for c in xrange(k):\n",
    "        # Cluster heading\n",
    "        print('Cluster {0:d}    '.format(c)),\n",
    "        # Print top 5 words with largest TF-IDF weights in the cluster\n",
    "        idx = centroids[c].argsort()[::-1]\n",
    "        for i in xrange(5): # Print each word along with the TF-IDF weight\n",
    "            print('{0:s}:{1:.3f}'.format(map_index_to_word['category'][idx[i]], centroids[c,idx[i]])),\n",
    "        print('')\n",
    "        \n",
    "        if display_content:\n",
    "            # Compute distances from the centroid to all data points in the cluster,\n",
    "            # and compute nearest neighbors of the centroids within the cluster.\n",
    "            distances = pairwise_distances(tf_idf, centroids[c].reshape(1, -1), metric='euclidean').flatten()\n",
    "            distances[cluster_assignment!=c] = float('inf') # remove non-members from consideration\n",
    "            nearest_neighbors = distances.argsort()\n",
    "            # For 8 nearest neighbors, print the title as well as first 180 characters of text.\n",
    "            # Wrap the text at 80-character mark.\n",
    "            for i in xrange(8):\n",
    "                text = ' '.join(arquivos[nearest_neighbors[i]]['clean'].split(None, 25)[0:25])\n",
    "                print('\\n* {0:50s} {1:.5f}\\n  {2:s}\\n  {3:s}'.format(arquivos[nearest_neighbors[i]]['ctr_id'],\n",
    "                    distances[nearest_neighbors[i]], text[:90], text[90:180] if len(text) > 90 else ''))\n",
    "        print('==========================================================')"
   ]
  },
  {
   "cell_type": "markdown",
   "metadata": {},
   "source": [
    "Let us first look at the 2 cluster case (K=2)."
   ]
  },
  {
   "cell_type": "code",
   "execution_count": 27,
   "metadata": {
    "collapsed": false
   },
   "outputs": [
    {
     "name": "stdout",
     "output_type": "stream",
     "text": [
      "0\n",
      "1\n",
      "    47464 elements changed their cluster assignment.\n",
      "2\n",
      "    36525 elements changed their cluster assignment.\n",
      "3\n",
      "    14183 elements changed their cluster assignment.\n",
      "4\n",
      "     9567 elements changed their cluster assignment.\n",
      "5\n",
      "     2313 elements changed their cluster assignment.\n",
      "6\n",
      "      359 elements changed their cluster assignment.\n",
      "7\n",
      "       96 elements changed their cluster assignment.\n",
      "8\n",
      "       37 elements changed their cluster assignment.\n",
      "9\n",
      "       12 elements changed their cluster assignment.\n",
      "10\n",
      "        4 elements changed their cluster assignment.\n",
      "11\n",
      "        1 elements changed their cluster assignment.\n",
      "12\n",
      "        2 elements changed their cluster assignment.\n",
      "13\n",
      "==========================================================\n",
      "Cluster 0     sp:0.149 ao:0.034 paulo:0.016 poetagem:0.014 jf:0.014 \n",
      "\n",
      "* c7fac34db6e4f15a81aecfb491e0f82633b558f3           0.94899\n",
      "  igia correios aten o ap s a a tentativa colocar o objeto em posta restante tentativas de e\n",
      "  ntrega h h h motivo de devolu o\n",
      "\n",
      "* 21d2a63c8188b43511edebd654c5d5b2a9323c32           0.95517\n",
      "  ar ag ii ii destinat rio claudio roberto dos santos r projetada lt qd vl n galvao sao paul\n",
      "  o sp endere o para devolu ao\n",
      "\n",
      "* ba5e4a73c2ed94465af5501552e2c9c56541d701           0.95551\n",
      "  seed ggran dr g data de postagem correio igia notifica o de i penalidade tentativas de ent\n",
      "  rega h r h h carimbo aten o ap\n",
      "\n",
      "* a4e864cb9f23a17cf597428465bf819c03aed50b           0.95596\n",
      "  ig a correio dflta de entrega l cl i r s destinat rio jbs sa parque industrial t co pq ind\n",
      "  ustrial lins sp ar ag\n",
      "\n",
      "* 26522eb41379cd89866e90d41384d17b2861861c           0.95683\n",
      "  kricorreio a am seed ggran drigo data de postagem agpop notifica o de penalidade carimbo u\n",
      "  nidad ntrega centro sao carlos sp destinat rio tentativas de\n",
      "\n",
      "* 59d0f9ecb1ca6a1159efcf9153dec69aac0d903c           0.95797\n",
      "  ii ii ii aten o ap s a a tentativa colocar o objeto motivo de devolu o em posta restante e\n",
      "  lmudou se elrecusado el endere\n",
      "\n",
      "* 2d9f1ba9eab1e79a87c3ecf93cb9ab34977d5b19           0.95879\n",
      "  correio g a d lise ez ft gril aten o ap s a a tentativa colocar o objeto em posta restante\n",
      "   ir r destinat rio\n",
      "\n",
      "* d34ad196b315273edf49dae85246b2110534b515           0.95936\n",
      "  correio a seed ggran dr go data de postagem notifica o de autua o destinat rio andre luiz \n",
      "  monsef borges rua lt qd centro guaira\n",
      "==========================================================\n",
      "Cluster 1     df:0.142 brasilia:0.079 conjunto:0.036 norte:0.029 sul:0.022 \n",
      "\n",
      "* 54ca595a707b3b4051d86e6a36b1cd91aabaf89f           0.92883\n",
      "  correio ar ag ti ii ii ii iii destinat rio rafael barros ferreira quadra conjunto a lt qd \n",
      "  st norte brasilia df endere o para\n",
      "\n",
      "* 33a278d8a12d231a483827a114e197fabf4b9bc3           0.93247\n",
      "  y t seed ggran dr go p data de postagem notifica o de autua o destinat rio sandra maria de\n",
      "   sousa a k tentativas de\n",
      "\n",
      "* 6de8fb2370c3470445e2fbd541757c64af9d4d20           0.93259\n",
      "  ar ag ii o ii ii ii h ii n da notifica o de autua o auto r placa uf j j df data de\n",
      "  \n",
      "\n",
      "* 8f892b15763a0cddc73dd3b081616add340c1c10           0.93296\n",
      "  ii ii iiii destinat rio banco bmc s a qr conjunto h lt qd sta maria brasilia df ar ag ende\n",
      "  re o para devolu o\n",
      "\n",
      "* bb24e817d18bdc3217686d5bda2d1fc95679f46b           0.93318\n",
      "  correio igi a seed ggran dr go data de postagem ag op notifica o de penalidade destinat ri\n",
      "  o r goncalves me shn quadra lt df\n",
      "\n",
      "* 1911b957754c5dc1fdc0792e453f3ab2cc51643b           0.93319\n",
      "  s r gc agetop aten o ap s a tentativa colocar o objeto em posta restante destinat rio bsb \n",
      "  df transportes de cargas ltda me\n",
      "\n",
      "* dd0f6b1ec4e134a22e4eba0cb996767182e4d771           0.93334\n",
      "  correio s f m seed ggran dr g data de postagem ag notifica o de penalidade destinat rio ar\n",
      "   carimbo unidade de entrega v fet\n",
      "\n",
      "* 88c9375ca5c7bd9184eb918aebfb26c2d1e7e9eb           0.93340\n",
      "  i f correio igi a r g agetop aten o ap s a tentativa colocar o objeto em posta restante de\n",
      "  stinat rio eden maciel dos\n",
      "==========================================================\n",
      "Cluster 2     agetop:0.048 digitaliza:0.038 emitir:0.037 sete:0.037 chegada:0.037 \n",
      "\n",
      "* 179e15212990b64162e72f0d9429606549911267           0.94019\n",
      "  data de postagem agetop r ff correio igi a ii ii ii ii ii ii ii iii naitseed ggran dr gt t\n",
      "  entativas de entrega aten\n",
      "\n",
      "* 3a138a9215e4ace4ed2eca5d56be8375aba388fa           0.94127\n",
      "  carimbo unidade de entrega rubrica e a t carteiro placa nkc go assi tura do recebedor ende\n",
      "  re o para devolu o do ar centro de\n",
      "\n",
      "* cadc8707ec2c1445e8225989276a1355671da837           0.94140\n",
      "  correio igi a naitseed ggran dr gt data de postagem controle aten o ap s tr s tentativas d\n",
      "  e entrega emitir aviso de chegada e\n",
      "\n",
      "* e7081ef1f3311ecfcfed3e30cc6d43f35a51d80b           0.94329\n",
      "  arim unidade de en treg nap correio igi a estinatario edmar antonio da silva rua lote quad\n",
      "  ra casa centro ceres go ar ag ii ii\n",
      "\n",
      "* dcbee3631223b66c6184da5480c2b01952bd48d8           0.94459\n",
      "  controle carimbo unidade de entrega assinatura do recebedor m i laca auto m go a nome legi\n",
      "  vel do recebedor correio igi a vencimento naitseed ggran\n",
      "\n",
      "* 371c6586f6eb2ddd9adf4b02015625f0e017aaf4           0.94530\n",
      "  nap data e i r g tura do recebedor nom l t do recebedor a c correio gi a ii ii ii ii ii ii\n",
      "  \n",
      "\n",
      "* a4437be1dd2f2a2a0f446242c829744d7c0ecf28           0.94549\n",
      "  nome legivel do recebedor n documento de identidade ii ii ii ii ii li ii iii correio igi a\n",
      "   p ar destinat rio tiago raphael\n",
      "\n",
      "* 85449c68de812e7202826678b68a88d288b88a9b           0.94602\n",
      "  sete dias motivos da devolu o elmudou se mrecusado elendere o insuficiente el n o procurad\n",
      "  o eln o existe o n mero el ausente desconhecido\n",
      "==========================================================\n",
      "Cluster 3     i:0.020 notifica:0.019 t:0.017 el:0.017 f:0.017 \n",
      "\n",
      "* 89d246e921806f256b7afe5885a33b214e388763           0.12806\n",
      "  \n",
      "  \n",
      "\n",
      "* 58f219ea40fd53effe13b2a78fcdbc8c1f5c2605           0.96866\n",
      "  correio notifica o de autua c o seed ggran dr go data de postagem rua vila wesley aparecid\n",
      "  a destinat ri tapajos brasilia de ii de\n",
      "\n",
      "* a34fa6d78980fe2fb5e23fd0cc4a5e8d0b5efba3           0.96924\n",
      "  correio igi a seed ggran dr go data de postagem fi notifica o de autua o av maria setor go\n",
      "  iania iii oeste ii destinat rio\n",
      "\n",
      "* e391c4eeb8022d070fc3323cd1db0b07c013ea0b           0.97076\n",
      "  correio seed ggran dr go data de postagem ag op notifica o de penalidade gr a destinat rio\n",
      "   ar carimbo unidade de entrega g t\n",
      "\n",
      "* 89fd8271e4c60d2fb2cfe58b5706bea734c0b47b           0.97104\n",
      "  is y op notifica o de ar autua o ff seed ggran dr go data de postagem luis rua setor palme\n",
      "  iras carlos d destinat rio\n",
      "\n",
      "* c283ae6b57f2dd57d3aecca5944e26086be13754           0.97128\n",
      "  ir notifica o de penalidade seed ggran dr go data de postagem ag y al muni ar ag ii ii iii\n",
      "   ii ii ii ii\n",
      "\n",
      "* 678151640c2d1b60f57c3f1884d7f56967b3bf63           0.97138\n",
      "  notifica o de destinat rio alessandro bueno da silva rua lt od setor oeste goiania go o h \n",
      "  a g iii ii ii ii ii\n",
      "\n",
      "* 4a5091e6d16983783a799507ef2ce34b01a94f9b           0.97155\n",
      "  correios igi a seed ggran dr go op data de postagem notifica o de autuac o destinat rio jo\n",
      "  se renato de souza tentativas de entrega\n",
      "==========================================================\n"
     ]
    }
   ],
   "source": [
    "k = 4\n",
    "seed = 120000\n",
    "maxiter = 400\n",
    "# Use k-means++ initialization\n",
    "initial_centroids = smart_initialize(tf_idf, k, seed)\n",
    "# Run k-means\n",
    "centroids, cluster_assignment = kmeans(tf_idf, k, initial_centroids, maxiter=maxiter,\n",
    "                                   record_heterogeneity=None, verbose=True)\n",
    "visualize_document_clusters(arquivos, tf_idf, centroids, cluster_assignment, k, map_index_to_word)"
   ]
  },
  {
   "cell_type": "code",
   "execution_count": 28,
   "metadata": {
    "collapsed": false
   },
   "outputs": [
    {
     "data": {
      "text/plain": [
       "array([ 4718,  9003, 31957, 83329])"
      ]
     },
     "execution_count": 28,
     "metadata": {},
     "output_type": "execute_result"
    }
   ],
   "source": [
    "np.bincount(cluster_assignment)"
   ]
  },
  {
   "cell_type": "code",
   "execution_count": 29,
   "metadata": {
    "collapsed": false
   },
   "outputs": [
    {
     "data": {
      "text/plain": [
       "dtype: str\n",
       "Rows: 129007\n",
       "[' concordia sc ii ii ii li ii ii ii ii agetop r j na p se ed ggran dr gt data de postagem controle r agetop tentativas de entrega corre h h h aten o ap s tr s tentativas de entrega emitir aviso de chegada e dolocir o objeto cru posta restante por sete dias motivos da devolu o mudou se recusado mendere o insuficiente el n o procurado n o existe o n mero ausente li desconhecido li falecido outros da i y o e tia placa mec sc auto a vencimento gr a destinat rio trans kothe transportes rodoviarios ltda rua joao suzin marini sala salete ar ag endere o para devolu o do ar centro de digitaliza o da dr carimbo unida e de entrega gonc fev c assinatura d recebeo v rxze g nome l rubrica e matricula do carteiro oto cow ct ll i t e cp e g c fe a c a gt c correio ntran uo', 'na itseeo ggran dr gt data de potagem p de oliveira transportes me r ver joao vitor costa sala a bro boa vista erizmiirim do agetop correio agetop tentativas de entrega siqueira campos pr for kis o di carimbo rega o fev z ar ag iii hi liii fli h aten o ap s tr s tentativas de entrega emitir aviso de chegada e colocar a objeto em posta restante por sete dias motivos da devolu o o ii dere o para devolu o do ar ntro de digitaliza o da dr auto v nopmento eimudou se el recusado endere o insuficiente e n o procurado n o existe o n mero e ausente f desconhecido fateutdo outros ta pr a ist krums poo i edor yy jr legivel do recebedor data triz il ecume tope identidade ci ttanz olas tr stinat rio rl sricae matricula do cart eirc', 'correio destinat rio kg a dani e rinaldi transportes e madeiras lt rua albino benemann sala centro ibicare sc ar ag ii endere o para devolu o do ar centro de digitaliza ao da dr li ii controle carimbo unidade de entrega co r ffy sc rubrica e mat ula do carteiro irineu aht iio costa matrfcul gestor da ac iiicap sc assinatura do rareoor a t mle sc a ii cimento naitseed ggran dr gt data de postagem arj agetop z idfue agetop tentativas de entrega cbest h r h h aten o ap s tr s tentativas de entrega emitir aviso de chegada e colocar o objeto em posta restante por sete dias motivos da devolu o elmudou se e recusado elendere o insuficiente el n o procurado eln o existe o n mero el ausente mdesconhecido falecido outros data de entrega n documeni de identidade cr e placa ai tio ar nome legivel do recebe datam golas vai', 'na it seed ggrantdr gt correios destinat rio transportes golin ltda me rija professora vanda maria mey sala centro capinzal sc ar ag liflhlili endere o para devolu o do ar centro de digitaliza a da dr barbi do mjk sc a assinat ra do recebedor rn nome leg vel do reqeredor l uc a na d t j aci p agetop tentativas de entrega aten o ap s tr s tentativas de entrega emitir aviso de chegada e colocar o objeto em posta restante por sete dias motivos da devolu o mmudou se m recusado r endere o insuficiente no procurado el n o existe o n mero l ausente eidesconhecido palecido moutros da i ta l ka nzs sdeie lete ii iiii placa u o data de postagem orco agetop cbitrieto h h h controle matriculado carteiro', ' videira sc iiii ar ag iiiii il ni ii correio a na it seed ggran dr gt data de portagem controle de agetop agetop tentativas de entrega coaac os h r h h aten o ap s tr s tentativas de entrega emitiraviso de chegada e colocar o objeto em posta restante por sete dias motivos da devolu o e mudou se recusado f endere o insuficente wi n o procurado el n o existe o n mero el ausente e desconhecido falecido outros carimbo unidade de entrega fev rubrica e matriculado carteiro qonald mat b rtrirr sata auto a venuimento placa mgk sc assinatura do recebedor vai nome leg vel do recebedor destinat rio construtora fetz ltda rod sc km terreo c experimental endere o para devolu o do ar centro de digital za o da dr dat r fiq d pumento de identidade tir c ', 'igi a controle nap correio seed ggran dr gt data de postagem destinat rio carimbo unidade de entrega agetop tentativas de entrega transportes alviero ltda rua ivo rdecarvali sala vila pedrini h h h joa o fev aten o ap s tr s tentativas de entrega emitir aviso de chegada e colocar o objeto em posta restante por sete dias motivos da devolu o mudou se recusado elendere o insuficiente n o procurado n o existe o n mero j ausente desconhecido li falecido outros joacaba sc ar ag ii ii ii ii ii ii ii ii iiii endere o para devolu o do ar centro de digitaliza o da dr rubrica e matrioula do carteiro wncimento auto a ademr arcelo de oliveira rico mat m r m ignttade v placa ml r f z l rt lc nomeititegivel do recgsedor ci a d spc cr tran roias aar', 'seed ggran dr g data de postagem ag correio op notifica o de penalidade igi a tentativas de entrega i h h i orft o destinat rio pam transportes de cargas ltda est campinas sta barbara cd co lt qd camp piraja salvador ba motivo de devolu o mudou se el recusado ui endere o insuficiente ril n o procurado n o existe o n mero e ausente eldesconhecido el falecido ooutros ar a aten o ap s a tentativa colocar o objeto em posta restante jf ir ii iii iiil endere o para devolu ao do ar centralizador regional declara o de conte do opcional n da notifica o de autua o auto r placa uf jrj ba assinatura do recebedor data de entrega nome legivel do recebedor n documento de identidade koren cula do carteiro', 'correio mar gr a ia notifica o de autua o destinat rio genivaldo nascimento santana rua nossa sra conceicao lt od teotonio vilela ilheus ba ilr a f iii ii endere o para devolu o do ar centralizador regional ny c natura do recebedor nome lut seed ggran dr go a data de postagem tentativas de entrega ii a aten o h ap s a tentativa colocar o objeto motivo de devolu o em posta restante el mudou se recusado el endere o insuficiente gn o procurado n o existe o n mero o ausente o desconhecido o falecido goutros declara o de conte do topcional placa jf jmx ba date fire entrega it s ot it ly n poquoento de iden tiopou nnt a not fica a de autua to auto r givel do recebedor carimbo unidade de entrega fev j f rubrica e naktricula do carwiro s i k ', 'seed ggran dr go data de postagem correio notifica o de penalidade destinat rio banco itaucard s a rua abrao jak duck lt od carimbo unidade de entrega xaxim tentativas de entrega z h curitiba pr ar ag aten o ap s a tentativa colocar o objeto em posta restante ii o h o o endere o para devolu ao do ar centralizador regional motivo de devolu o i mudou se o recusado endere o insuficiente o n o procurado o n o existe o n mero o ausente desconhecido o falecido goutros declara o de conte do opcional rubrica e matricula do carteiro placa uf age pr n da notifica o de autua o auto r rafael c tiblri a d s e eios data de entrega t n ir at o dor r lary nome legivel do recebedor n do umento qe identidadz o c fev ', 'data de entrega y y n docum ent e idedivade ii ii tu ii ii hh a j naitseed ggran drigt data de postagem controle valoch transportes rodoviario de cargas r ricardo kassner ilha da figueira jaragua do sul sc ar ag miii endere o para devolu o do ar centro de digitaliza o da dr placa auto mej sc a assinatura re ebed r c c nst legivel do recebedor u agetop dirig agetop rfe h h h aten o ap s tr s tentativas de entrega emitir aviso de chegada e colocar o objeto em posta restante por sete dias motivos da devolu o mudou se elrecusado rn endere o insuficiente el n o procurado ifin o existe o n mero e ausente eidesconhecido falecido el outros vencimento ento tentativas de entrega correios destinat rio rubrica e matricula do carteiro iw noronha olc dai go var rim u ntrega xn fev ', 'seed ggran drigo data de postagem notifica o de autua o ir s r claudino centro chapeco sete de destinat rio sc i signorini setembro ar d ag lt s ci s f i f nk zst t s rt iii r ii el el tentativas motivo de entrega h h de devolu o mudou se en dere o insulic te n mero desconhecido outros a f t aten o ap s a a tentativa colocar o objeto em posta restante n recusado n o procurado no ausente n falecido carimbo unidade de entrega cha p cr i i b fev f o gc endere o para devolu ao do ar centralizador regional declara o de conte do opcional rubrica e matricula c np do carteiro so kl n rvi da notifica o de autua o auto r placa uf mjj sc assinatura do recebedor data de entrega nome legivel do recebedor n documento de identidade', 'notifica ao de i autua o correio tr rowtxrci seed goranidr g data de postag em d carimbo unidade de entrega tentativas de entrega h h h destinat rio hydro kuhlemann geracao ltda rod sc km o lt immo zerna dona emma sc aten o ap s a a tentativa colocar o objeto em posta restante ar ag iii ii ii endere o para devolu ao do ar centralizador reaibnal motivo de devolu o mudou se al recusado endere o insulic ente n o procurado n o existe o n mero elausente uidesconhecido falecido eloutros declara o de conte do opcional n da notiic o e autua o auto ro rlaca uf mlks sc assinatura do rel e data d rpf givet d recebedor s lua n documento diz nylr ad o fev j l cio mat a ner orreios rubrica e matricula dcfeaptro', 'notifica o de autua o correio im il f lowiff c seed ggranidr g data de postagem rua centro i transportes urussanga vidal destinat rio ramos sc logistica i centro ar ag hoffmam lt ii ltda cd me h i n el l n tentativas motivo clou se de entrega i h de devolu o endere o insoficierse n o existe o n mero desconhecido outros t aten o ap s a a tentativa colocar o objeto em posta restante nrecusado nn o procurado el ausente falecido lir carimbo unidade de entrega f s s q y fev endere o para devolu ao do ar centralizador regional declara o de conteudo opcional rubrica e mi r iip s i jla ifif do carteiro ki n da notir ca o de autua o auto placajuf r mle i sc assinatura co recebedor r em et ent ao data de entrega e rt nome legivel do recebedor n documento de identidaqva ', 'ar ag ii ii ii ii il ll tidade correio zilefie destinat rio a a meneghetti e cia ltda epp mechelon o lt cd nterior seed ggran dr g data de postagem agkop notifica o de penalidade carimbo un ip o w de entrega aten o tentativas de entrega h v h v h motivo de devolu o mudou se el recusado endere o insuficiente n o procurado ui n o existe o n mero el ausente desconheod el falecido eoutros declara o de conteff do f pcional placaiif mil dat e vre rubrica e matricula do carteirc rarclo crisfi n matr avnte de disu endere o para devolu ao do ar centralizador regional ap s a tentativa colocar o objetoi em posta restante g fev lomr sc x da notifica o de autua o auto r ik atu do rece dor j me livel d e ebedor', 'ii auto a iwk ce a nrau go agetop agetop corstat v j h h controle carimbo unidade de entrega correio deed ggran dr gt data de postagem aten o ap s tr s tentativas cie entrega emitir avio cia chegada e colocar o objeto em posta restante por sete dias motivos da devolu o mudou se recusado endere o insuficlente n o procurado ej n o existe o n mero e ausente desconhecido ri falecido outros dx rucr i nt tivw miri nap rgt a ji ar stinat rio luiz gustavo lima arruda rua manuel jacare ap mucuripe fortaleza ce tentativas de entrega ar ag hiiiii dere o para devolu o do ar mtro de digitaliza o da dr natura dd recebedor eoivel do recebedor cimento m r rubrica e matricula do carteiro s ct vto r t ek i tsq r cio al mat cdtranr oissaira', 'seed ggran dr go data de postagem tentativas de entrega g a notifica o de penalidade correio destinat rio luiz fernando pinto r mario edmundo x barros lt qd vila bela guarapuava pr endere o para devolu o do ar centralizador regional motivo de devolu o em posta restante o mudou se recusado oendere o insuficiente eln o procurado o n o existe o n mero oausente o desconhecido el falecido eloutros declara o de conte do opcional ar ag o ii ii o ii ii ii o carimbo c aten o ap s a tentatia colocar o objeto rubrica e matricula do carteiro n da notifica o de autua o auto placa lif r aae pr nome leg vel do recebdo titicts t socumit k d laikon iveire', 'a k agetop zd a dr g agetop gr a correio correio h li ii ii ii destinat rio gilson vian rua de setembro o casa ouro preto toledo pr ar ag i iii endere o para devolu o do ar centro de digitaliza o da dr auto a assin w recebedor v o ido recebedor naitseed ggran drjot controle placa ajy pr jf vencimento tentativas de entrega r aten o ap s tr s tentativas de entrega emitir aviso de chegada e colocar o objeto em posta restante por sete dias motivos da devolu o elmudou se recusado elendere o insuficiente el n o procurado el n o existe o n mero itiausente eldesconhecido el falecido outros data de postagem data de efitfa i n docdmento de de ntidadd rubrica e matriculado carteiro letsch a r v s p c c pp erean c olas tt carimbo unidade de entrega', ' correio l a estinatario sueli devecchi rua antonio alvares torres casa jardim lago paraiso bandeirantes pr ar ag iii ii ndere o para devolu o do ar entro de digitaliza ao da dr auto senicren a iurado recluedor me givel do r oebedor data de postagem tentativas de entrega i j ll os aten o ap s tr s tentatimas de entrega emitir aviso de chegada e colocar o objeto em posta restante por sete dias motivos da devolu o mmudou se w recusado endere o insuficiente e n o procurado ljn o existe o n mero e ausente desconhecido falecido outros dita e qocumento ti e identid de controle carimbo unidade de en t r ega r ecik jf rubrica e matricula do carteiro r ca hnk pr a n agetop drjgo agetop e pre i tral goeas rait', 'se ed ggran dr g data de postagem ag notifica o de autua o destinat rio marcelo batista da silva tentativas de entrega l r q i e age cp rre carimbo unida entrega nizi r aa y fev pr e olirst tentativa t r jardim londrina amaury aruba pr oliveira e i silva ar ag ii lt ill qd il ii ii l a el fi e el e motivo w u i t aten o r h ap s a colocar o objeto em posta de devolu o restante mudou se lecusa c ado endereco insuficiente n o existe o n mero usente desconhecido iifalecido outros endere o para devolu ao do ar centralizador regional declara o d i i dou opcional m f xv rubric llire bocarteiro ss n da notifica o de autua o auto r placmjp a a pr assinatura do recebedor i bata de entrega nome legb e l do recebedor n documento de identidade', 'nap igi a auto coa mi ig so a ii ii ii ii controle correios orno agetop agetop tentativas de entrega correa r h aten o ap s tr s tentativas de entrega emitir aviso de chegada e colocar o objeto em posta restante por sete dias motivos da devolu o emudou se recusado eendere o insuficiente n o procurado ejn o existe o n mero ausente desconhec do e falecido rii outros data de en ro a lk doc o d i n r seeo gcranadfugt data de postagem carimbo unidade de entrega ge r fev z jf s stinat rio roberto sachetti me rua joao berte neto casa centro vargeao sc ar ag ndere o para devolu o do ar entro de digitaliza o da dr veng ento dme legivel do regebkdor sinatura do r eizietr ar otnran goi as ', ' vargeao sc ii auto laca mhg sc a estinatario roberto sachetti me rua jo o berte neto casa centro o endere o para devolu ao do ar entro de digitaliza o da dr cimento ssinatura flo recebedor seed gdr an dr gt data de postagem razgiami moo agetop agetop tentativas de entrega orreto h h h aten o ap s tr s tentativas de entrega emitir aviso de chegada e colocar o objeto em posta restante por sete dias motivos da devolu o e mudou se jrecusado elendere o insuficiente ei n o procurado e n o existe o n mero erl ausente desconhecido ei falecido woutros a nyk iome leg vel do r cebedor rik a k nap ar ag data de entrega na documento de identidade zi controle carimbo unidade de entrega rubrica e matricula do carteiro v lki b a ntran go es amt', 'correio g a amo seed ggran dr go a data de postagem i notifica o de autua c o rua valmir cofias maravilha pedro destinat rio sartori sc muller qd ar ag loto ill lt i ii od ii i e n el el n tentativas c tic motivo il h i h i h de devolu o mudou se endere o insuf ciente n o existe o n mero desconhecido outros de entrega n pk ap s a a tentativa colocar o objeto em posta restante n recusado n n o procurado h ausente lri falecido aten o q d jr carimbo unidade de entrega d fev endere o para devolu a do ar centralizador regional declara o de conte do opcional rubrica e matricula do carteiro z n da notifica o de autua o auto r placa uf mjc sc assinatura do recebedor datapie ex rega n t ge c l givl d riebedor n documento de tidade', 'o t uo ait feira de santana ba ii ii ii jii correio nap se ed ggran dr gt data de postacem agetop tentativas de entrega h h aten o ap s tr s tentativas de entrega emitir aviso de chegada e colocar o objeto em posta restante por sete dias motivos da devolu o ri mudou se m recusado p endere o insuficiente n o procurado n o existe o n mero ifi ausente desconhecido falecido vencimento dteetta gra do red nome legivel do recebedor me dago agetop corns o placa nzy ba auto destinat rio paradiso com g alimenticios trans ind lt rua ouricangas casa jardim acacia ar ag endere o para devolu o do ar centro de digitaliza o da dr controle carimbo unidade de entrega jf rubr a e matricula do carteiro igt a le woutros los yti', 'destinat rio fazan transportes ltda rua luigi sperafico bela vista farroupilha rs ar i i ag ii endere o para devolu o do ar centro de digitaliza o da dr ii ii rubricas matricula do carteiro controle a nap correios seed ggran dr gt data de poetagem agetop carimbo uni k entrega ts r placa iqr rs assinatura do recebedor nome r e do rscesedor rd qa civ c s ap s tr s tentativas de entrega emitiraviso de chegada e colocar o objeto em posta restante por sete dias motivos da devolu o mudou se rirecusado eenderece insuficiente el no procurado ri nrlo existe o n mero ej ausent e desconhecido elfale do lejoutros dat ii to o ntidade jf of ranzbias efait tentativas de entrega i aten o e idr g agetop corsako h h h auto venci uni o a ', 'ii ii ll ii ii ii ii ii iii agetop auto encimeftc a ssinatura do recebedor nome leg vel do recebed controle seed ggran dpjgt data de postagem laiu o go agetop tentativas de entrega corre h h h aten o ap s tr s tentativas de entrega emitir aviso de chegada e colocar o objeto em posta restante por sete dias motivos da devolu o elmudou se rirecusado eendere o insuficiente n o procurado n o existe o n mero elausente tidesconhecido kfalecido outros data ndo ume placa iqr rs correio nap a destinat rio staudt seel ltda rua adolfo schenckel sala c rio branco s o sebastiao do cai rs ar ag endere o para devolu o do ar centro de digitaliza o da dr carimbo de entrega fev rubrica e matricula do te rc', 'correio n fev x it o o f destinat rio claudemir joao von fruhauf rua vasco da gama lt od centro nao me toque rs endere o para devolu o do ar centralizador regional seed cgran dr g data de postagem m tentativas de entrega ol motivo de de devolu o mudou se re el endere o insoficienw o n procurado on o existe o n mero da sute desconhecido fteo ooul os declara o de conte do opci notifica o de autua o carimbo unidade de trega n da notifica o de autua o auto r aawi t k bedor nome leg vel do recebedor j i placa uf ild rs a erz i data t io documelvto j d e dentipade ar ag ii ii aten o ap s a a tiva restante rubrica e matricula do carteiro', 'cori y x mc i seed goranidr g data de postagem notifica o de autua o tentativas de entrega h h carimbo unidade de entrega motivo de d nnudou se recusado endere o insuficiente n o procurado ui n o existe o n mero ausente desconhecido el falecido goutros aten o ap s a tentativa ocar o objeto em posta restante endere o para devolu ao do ar centralizador regional rubrica e matricula do carteiro declara o de conte do opcional n da notifica o de autua o auto r placa uf ah pr nce i no assinatura do recebedor rose l data de entrega nome legivel do recebedor nb documento de identidade fev destinat rio ar p car guatemal lt od vl morangu ira maringa pr', 'correios seed ggran dr g data de postagem notifica o de ar i igt a agi autuac o avenida centro londrina santander destinat rio il i parara pr leasing iii ar s a lt od arrendamento ag i iill mero ii i a el r r el tentativas p motivo i de entrega p h r e h aten o h ap s a tentativa colocar o objeto em posta de devolu o restante mudou se nrecusado endere o insuficsnie n n o procurado n o existe o n mero r ausente desconhecido falecido outros carimbo unidade de entrega j fev o jp orn endere o para devolu ao do ar centralizador regional declara o de conte do opcional rubrica e matricula carteiro n da notirca o de autua o auto r placa uf ax assinatura do recebedor ducimara r s silva data urgail o nome leg vel do recebedor n documento de identidade ', 'carimbo u t te de entrega inatlftra i dorecebedor c dor nc correio estinat rio teixeira rosa transportes ltda avenida brasil zona maringa pr ar ag ii lo mere o para devolu o do ar ntro de digitaliza o da dr au o oce pr a o na it seed ggran dr gt data de poetagem ac p z agetop tentativas de entrega h h h aten o ap s tr s tentativas de entrega emitir aviso de chegada e colocar o objeto em posta restante por sete dias motivos da devolu o elmudou se elrecusado l endere o insuficiente ln o procurado n o existe o n nner elausente desconhecido e falecido outras controle rubrica e matricula do carteiro ikosins n nk matreula agente ei elec ii o r drod agetop ccrreaos t u p o coyyade tranz olos aat', 'correio r ji eed ggranidrig data de postagem notifica o de autua o destinat rio jaloto transportes ltda avenida colombo lt vila nova maringa pr tentativas de entrega ti aten o ap s a tentativa colocar o objeto em posta restante carimbo unidaqb ga fev j ii iii illi r lifi ii motivo de devolu o mudou se grecusado endere o insuficiente iiin o procurado ui n o existe o n mero ausente el desconhecido falecido eloutros rubrica e matricula do carteiro endere o para devolu o do ar centralizador regional declara o de conteudo opcional n da notifica o de autua o auto r eduard placa uf ffilai pr assinatura do recebedor igor fer ando rossi ktpt c e data dyfi r v a escritorio t vuti nome legivel do recebedor n documento de identidade', 'tgr a d nap atario davi camargo turci r amilcar vecchi terreo jd america maringa pr ar ag o endere o para devolu o do ar centro de digitaliza o da dr w nciaento receeldor aznatu tp seed ggran dr gt data de postagem agetop tentativas de entrega aten o ap s tr s tentativas de entrega emitir aviso de chegada e colocar o objeto em posta restante por sete dias motivos da devolu o mudou se eirecusado ii endere o insuficiente e n o procurado el n o existe o n mero e ausente e desconhecido falecido oldros data de e trem toi r an correio placa aotq pr auto a ii llii ii controle carimbo o c o jan l a fq jf rubrica e mate do carteiro ves a nome leonel do recebedor tr traniunins itait', 'ii h ar ag o o o ou ii oii j r correio a destinat rio spraytec fertilizantes ltda av arot nildo r rocha lt od jd higienopolis mamnga pr endere o para devolu r centralizador regional seediggfan dr g data de postagem f of h r h motivo de devolu o eimudou se el recusado endere o insuficiente ein o procurado ul n o existe o n mero elausente i desconhecido el falecido eloutros declara o de conte do opcional notifica o de penalidade rubrica e matricula do carteiro tentativas de entrega a r acjeto rft aten o ap s a tentativa colocar o objeto em posta restante s ta de ouve td t assinatura do reli n da notifica o de aut ra r e s l laca uf td vf pr l reeepli e r de data de entrega u n documento de identidade i a carimbo unidade de entrega r op o fev za nome leg vel do recebedor ', 'agetop ituporanga sc ii ii in nap controle lpimirm brigo agetop tentativas de entrega h aten o s i k c ap s tr s en ali p as de entrega emitir aviso e chegada e colocar o objeto em posta restante por sete dias motivos da devolu o ri mudou se recusado elendere o insuficiente e n o procurado n o existe o n mero el ausente s desconhecido el falecido outros data de entrega n documento de identidade carimbo unidade de entrega p fev rubrica e matriculado carteiro w g idre p deoi velra mat ca tei ro or sc placa mhp sc auto a vencim nto assinatura do recebedor nome legivel do recebedor ao remetente seed ggran dr gt data ide postagem destinat rio ricardo zamfolini moreno lopes rua presidente nerei o casa zona rural ar ag endere o para devolu o do ar centro de digitaliza o da dr tgc tait', 'aa iili auto vencimento a ii ii ii destinat rio ricardo zamfolini moreno lopes rua presidente nerei o casa zona rural ituporanga sc ar ag liii ile iifiiiili endere o para devolu o do ar centro de digitaliza o da dr placa mhp sc assinatura do recebedor nome leg vel do recebedor prsz agetop tentativas de entrega a a t p e s nit tr o s lea t i t s c ea chegada e colocar o objeto sete cilas motivos da devolu o el mudou se iendere o insuficiente n so existe o n mero desconhecido outros e controle carimbo unidade de entrega c fev c rubrica e matriculado carteiro acexandre r po de ofivn mat carte ro dr sc nap ofego agetop correios ao remeen h h h r qtyyt trega emitir visi de m posta restante por mrecusado no procurado el ausente w falecido data de entrega n documento de identidade seed ggran dr gt data de postagem zn correio cr es z w watt', 'seed ggran dr g data de portagem correio g o notifica o de autua o destinat rio patrik da silva paulino tentativas de entrega v pr age op i h rire carimbo unidade de entrega ag j s c rua laguna portinho sc projetada li i lote i i ar li o lt i ag qd ill ii i i ill li iii f e el n motivo h h de devolu o mudou se endere o insubtente n o existe o n mero desconhecido outros gi ii e e aten o ap s a tentativa colocar o objeto em posta restante recusado n o procurado ausente falecido endere o para devolu o do ar centralizador regional declara o de conte do opcional rubrica e matricula do carteiro oliveira marc rtejr niati i n da notif ca o de autua o auto r placame mlf sc assinatura do recebedor y y l rj ifr lalf dat ck e entresa i i loj i v nome leg vel do recebedor v n documet fto de idntirdan ', 'correio wvili i naitseed ggrantdrjgt ar controle data de postagem af dj p destinat rio locacao de car rental systems do brasil agetop a d ageto r t t serimbo vu us elea entrega rua marechal deodoro tentativas de entrega orr p andcj b centro fh curitiba pr h fev endere o mill in para ii ar ii ii devolu o ll il do ag iii ar i aten o ap s tr s tentativas de entrega emitir avisk o c p ie chegada e colocar o objeto em posta restante r sete dias motivos da devolu o eimudou se el recusado e endere o insuficiente n o procurado centro de digitaliza o da dr fey mi ez n o existe o n mero cidesconhecido si ausente elfalecido rubrica e matriculado carteiro plaga auto sensimen sta aws pr a ri o atex fern assinatura do recebedor mofe r l ms ir melro pg bylessn o data de entrega e de correios fev mik nome leg vel do recebedor ne documento de identidade tran suias ffait', 'seed ggran dr g data de postagem fr notifica o de penalidade destinat rio arlindo nagy rua sabiatinga lt qd carimbo conjunto flamingos tentativas de entrega h j h h arapongas pr ar ag aten o ap s a tentativa colocar o objeto em posta restante h ii oh o endere o para devolu ao do ar centralizador regional motivo de devolu o omudou se eirecusado fiendere o insuficiente o n o procurado el n o existe o n mero ausente el desconhecido i falecido outros declara o de conte do opcional rubrica e micula do carteiro placa uf afw pr ni da notifica o de autua o auto roo ciov a v i e e gf rtk data pe entrega ffr y nome leg vel do recebedor y doc ttiuwade k', 'igi a nalir seediggran dr gt curitiba pr ii iiii o jf ati agetop tentativas de entrega l h h h aten o ap s tr s tentativas de entrega emitir aviso de chegada e colocar o objeto em posta restante por sete dias motivos da devolu o emudou se el recusado ri endere o insuficiente r n o procurado nem existe o n mero el ausente desconhecido falecido outros controle carimbo unidade de entrega ruere alex fernando costa agente r os plaga awr pr correio auto a encm v n ta ei w er l ribeiro ra ditran uo es vatt data de postagem destinat rio car rental systems do brasil locacao de rua marechal deodoro andcj centro ar ag ii endere o para devolu o do ar centro de digitaliza ao pa dr m mo agetop corpoo assinatura do recebedor nome legivel do recebedor data de entreia fev k n documento de identidade', 'i j notifica o de autua o correio hw g destinat rio car rental systems do brasil locacao de rua marechal deodoro lt qd centro curitiba pr ar ag ii endere o para devolu ao do ar centralizador regional seediggran dr g data de postagem fe tentativas de entrega h motivo de devolu o i mudou se grecusado el endere o insuficiente gn o procurado gn o existe o n mero ausente ui desconhecido ej falecido gouiros declara o de conteudo opcional iii ii iiiii iii ii carimbo unidade de entrega rubrica e matricula do carteiro aten o ap s a tentativa colocar o objeto em posta restante n da notifica o de autua o auto fey placa uf r avvw pr assinatura do recebedor nome leg vel do recebed n d dbeifo rg b data de enit fev n documento de identidade osta alex p g nte freios er ', 'placa auto axi pr a assinatura do recebedor nome legiv lrecebedor va wncimeato rubrica e matriculado carteiro fr e q k ob p cs ti er r goes kr siip tt controle correio na itseed ggran dr gt data de postagem kapg rivr ga ci fey r i destinat rio volvo do brasil veiculos ltda av juscelino k oliveira terreo cidade industrial curitiba pr ar ag iiiiii iii endere o para devolu o do ar centro de digitaliza o da dr agetop tentativas de entrega h h h aten o ap s tr s tentativas de entrega emitir aviso de chegada e colocar o objeto em posta restante por sete dias motivos da devolu o mudou se li recusado endere o insuficiente n o procurado n o existe o n mero li ausente idesconhecido el falecido outros data de ntrega d l hit documento de identidade m i ii iiii a or co agetop corasto qn ', ' correio ig a me seed ggran dr g data de postagem notifica o de autua o destinat rio a mourao transportes rua amapa lt dd centro rancho alegre doeste pr carimbo unidade de entrega tentativas de entrega h h aten o ap s a tentativa colocar o objeto em posta restante ar ag ii li ii motivo de devolu o mudou se o recusado ej endere o insuficiente i n o procurado o n o existe o n mero o ausente desconhecido falecido outros endere o para devolu o do ar centralizador regional declara o de conte do opcional rubrica e matr cula do carteiro ni da notifica o de autua o auto r placa uf aan pr q rre t k nte te o est gere px e roc aci da jv e e t z reg assinatura do recebroo i rarlk m q a l t norly recebeoo r m ente pe tqa e ', 'a a na pk s te de c oestd get nw e f v correio destinat rio a moura transportes rua amapa centro rancho alegre d oeste pr ar i g i li endere o para devolu o do ar centro de digitaliza o da dr laca uto venzmen i aan pr assinatura do rege bed e itseed ggran dr gt data de postagem agetop indrig agetop tentativas de entrega h h h aten o ap s tr s tentativas de entrega emitiraviso de chegada e colocar o objeto em posta restante por sete dias motivos da devolu o limudou se e recusado ei endere o insuficiente eln o procurado eln o existe o n mero liausente desconhecido falecido outros e trega w e t e i in lha de controle carimbo unidade de entrega rubrica e matricula do carteiro ii ii ii nom e lwlpo recebbdor wd n i o tran oolas vat', 'assinatura do recedol nome legive ti do re qarr l ii n f w u c cori iffitr aten o ap s a tentativa colocar o objeto em posta restante destinat rio arlindo mourao est rancho alegre arapuan o lt od rurais rancho alegre doeste pr endere o para devolu o do ar centralizador regional seed ggran dpjgo op data de postagem tentativas de entrega motivo de devolu o el mudou se recusado endere o insuficiente mo procurado o n o existe o n mero ausente desconhecdo falecido outros declara o de conte do opcional notifica o de autua o carimbo unidade de entrega c sr q fev rubrica e m t gula do carteiro ar ag h iiiiii o ii ii ii h h n da notifica o de autua o auto r placpjuf alv pr dad e erati geoument v o pb entidade te de ciy oesteifl coed aci ps and ', 'corre seed ggrangr go data de postagem ag op notifica o de penalidade destinat rio silvestrin frutas lt da rod rs lt od carimbo e e pe e frega t setor central tentativas de entrega h r h farroupilha rs h fev ar ag aten o ap s a tentativa colocar o objeto em posta restante r r ii ii ii ii endere o para devolu o do ar centralizador regional motivo de devolu o e mudou se recusado endere o insuficiente n o procurado ui n o existe o n mero ausente el desconhecido o falecido outros declara o de conte do opcional rubr e i a l a t m e en m ai ci a te r n c a d a c s t e o lo r a fae rir ercial n da notifica o de autua o auto r c placaiuf j rs assinatura do recebedor pedro slivestrin nome legivel do recebedor rg dat ele entrega n documento de identidade', ' y notifica o de autua o seed ggran dr go data de postagem r agro centro juranda tupiniquins rural ii destinat rio pr i insumos iii esquina il ar i tam i agricolas li i lt ag i ltda qo a e e tentativas motivo n e r ri de entrega t h h h de devolu o mudou se t ns i t xc n m te er outros im fl rs dr gc agetop rre aten o ap s a a tentativa colocar o objeto em posta restante eousado a li se o curado falecido carimbo unidade de entrega j c k fev oll f endere o para devolu o do ar centralizador regional declara o de conte do opcional rubrica e matricula do carteiro ii v nck n vr n da notifica o de autua o auto r placa uf awr pr i assinatura do ecebedor f t egai nome legi r e o g t cpv p enoc', 'nd documento de identidade nome leg vel do recebedor ii endere o para devolu ao do ar centralizador regional votivo de devolu o mudou se cirecusado elendere o insuficiente n o procurado el n o existe o n mero el ausente eldesconhecido falecido eioutros declara o de conte do opcional aten o ap s a tentativa colocar o objeto em posta restante dr k agt orr notifica o de penalidade rubrica e matricula do te iro np da notifica o de autua o auto r assinatura do recebedor placa uf ild rs data de entrega r andr fn n ente comerciai ac ant nio prado aq seed ggran drigo data de postagem destinat rio nocar trai isportes ltda linha dez de julho lt pd capel fr orgo forte tentativas de entrega ahlkovprap rs q vr l ar w fl carimbo unidade de entrega at ', 'nap a sencimento auto a agetop lestinatario mestre transportes e remocoes ltda av vinte e quatro de agosto centro esteio rs ar ag endere o para devolu o do ar entro de digitaliza o da dr e sinatd a dd recebedor onie legivel do r cebedor seed ggran dr gt data de postagem tentativas de entrega aten o apes tr s tentativas de entrega emitir aviso de chegada e colocar o objeto em posta restante por sete dias motivos da devolu o mudou se m recusado mendere o insuficiente el n o procurado eln o existe o n mero el ausente el desconhecido e falecido eloutros n i wcijniento de identidade laca itt rs ppm ran go correio corestos h h h controle i inti ia ci c e adilm e e b gz ws rubrica e matricula do carteiro itor silva j ', 'rubrica e matrija do carteiro santina arteiro w f correio i a seed ggran dr g data de postagem notifica o de autua o aten o ap s a tentativa colocar o objeto em posta restante destinat rio esalita luzia nunes fiuza r antonio martins da silva lt qd jardim joana d arc campo moura pr tentativas de entrega motivo de devolu o i mudou se recusado el endere o insuficiente n o procurado el n o existe o n mero ausente desconhecido gfalecido goutros carimbo unoade de entrega pr n o fev ran o ii lo assntitur endere o para devolu o do ar centralizador regional declara o de conte do opcional n da notifica o ce autua o auto r nome leg vel ajd recebedor placaiuf avn pr krt v data pg entrega nqrjfto ntidade c ', 'controle correio na itseed gdran dr gt igr a ar data de postagem destinat rio h wilian baragatti avenida goidere apto centro campo mourao pr rmtrega v fev pi ar ag ii il i li fl lflhlil ii ii iiii endere o para devolu o do ar centro de digitalizac o da dr rlibrc da dr agetop agetop tentativas de entrega etft cio h aten o ap s tr s tentativas de entrega emitir aviso chegada e colocar o objeto em posta restante po sete dias motivos da devolu o emudou se e recusado eiendere o insuficiente no procurado e niko existe o n mero ausente e desconhecido efalecido noutros auto a placa awb pr c mltto assnatur do recebedor nome legivel do recebedl ielfy cannapini t e de correios ampo mourao e matr cula do carte ro tr tra rg olas itat data n dila c ', 'correio a yjr dr poe op rubrica e m tricula do carteiro agaro aten o ap s a tentativa colocar o objeto em posta restante iao reiv etente hiv ditir seed ggran dr g data de postagem pm tentativas de entrega ji j jp d p motivo de devolu o el mudou se elrecusado endere o insuficiente el n o procurado n o existe o n mero ente ei desconhecido falecido el outros notifica o de autua o carimbo unid e entrega iree fev o ii ii ii destinat rio agrobasa agropecijaria da bania ltda av santos lopes lt od centro irece ba endere o para devolu o do ar centralizador regional np da notifica o de autua o auto r assinatura do recebedor declara o de conte do opcional plackuf jl ba data de entrega nome leg vel do recebedor np documento de identidade', 'seed ggran dr g data de postagem ag notifica o de autua o destinat rio almeida e braga com e repres ltda me rua coronel terencio dourado lt qd centro irece ba carimbo unidade de entrega tentativas de entrega ti h h aten o ap s a tentativa colocar o objeto em posta restante fey ar ag jf ii ii ii ii o motivo de devolu o o mudou se o recusado endere o insuriderne n o procurado n o existe o n mero ausente desconhecido o falecido o outros ii ii endere o para devolu ao do ar centralizador regional rubrica e matricula do carteiro declara o de conte do opcional n da notifica o de autua o auto r placnuf ida t rde lssinatura ff do rpcebedoz z nome legivel do recebedor documento de identidade p sr k correios i a', 'nap seed ggran dr gt data de poetagem ii iiii agetop carimbo unidadbad e entrega fev i pinzlninel oildo agetop clorre os h i s h h tentativas de entrega aten o ap s tr s tentativas de entrega emitiraviso de chegada e colocar o objeto em posta restapte por sete dias motivos da devolu o mudou se recusado l endere o lnsficiente el n o procurado n o existe a n mero ffl ausente el desconhecido e falecido ii outros placa ba auto a vencimento assinatura do recebedor data de entrega nome legivel do recebedor ap documento de identidade correio v g f controle destinat rio lourival ribeiro de oliveira rua barao do cotegipe sala centro senhor do bonfim ba ar endere o para devolu o do ar centro de digitaliza o da dr rubrica e matricula do carteiro e ditran uniastiatt', ' correio aif a ie na p seed ggran dr gt ar controle destinataft lourival ribeiro de oliveira data de postagem bambar optuo agetop agetop k wn o v i ll bn rua barao do cotegipe tentativas de entrega corraexces h sala centro h s senhor do bonfim ba h endere o centro de para digitaliza o ar devolu o ill da dr do ar ag ii aten o ap s tr s tentativas de entrega chegada e colocar o objeto em sete dias motivos da devolu o mudou se eiendere o insuficiente an o existe o n mero desconhecido ni el ri b emitir aviso de posta restante por recusado n o procurado ausente falecido rubrica e matricula do carteiro wg g placa hd ba auto a asticalento rioutros mi a a k i softi assinatura do recebedor data de entrega nome legivel do recebedor n documento pe identidade dei go watt', 'ii ii ii tm destinat rio comercio e transporte verona ltda rod rst lt od veranopolis rs motivo de devolu o em posta restante el mudou se el recusado endere o insuficiente ei n o procurado n o existe o n mero elausente desconhecido i falecido outros declara o de conte do opcional notifica o de penalidade carimbo unidade de enrcrega e v u f rubrica e matricula do carteiro r seediggran dr g data de postagem tentativas de entrega i h i i h r aten o ap s a tentativa colocar o objeto endere o para devolu o do ar centralizador regional n da notifica o de autua o auto r assinatura recebedor nome leg vel do recebedor placa uf n rs a r y r c l reg n documencro dv mde ar ag', 'da r rj e vezie se ed ggranior g data de postagem notifica o de autua o orrf carimbo iade li e entrega tentativas de entrega h destinat rio auto viacao estrela ltda rua rio branco lt cd centro estrela rs aten o ap s a tentati colocar o objeto em pos restant jf iii iii ii ar ag motivo de devolu o omudou se elrecusado elendere o insuficlente el n o procurado n o existe o n mero el ausente desconhecido gfalecido goutros rubrica e mzicula do carteiro n da notifica o de autua o auto r endere o para devolu o do ar centralizador regional declara o de conteudo opcional placaiuf inw rs assintura do recebedor t wyll ct u nome egivel do recebed c g fnl k n docia into e dff t lid ade cd p z it clo', 'nap correio a ii o seed ggran dr gt data de postagem agetop w crigo agetop a placa mr o rs ceramica scherer ltda rua sem denominacao sn barra da forquetinha lajeado rs ar ii ii ii ag endere o para devolu o do ar centro de digitaliza o da dr tentativas de entrega aten o ap s tr s tentativas de entrega emitir aviso d chegada e colocar o objeto em posta restante p sete dias motivos da devolu o el mudou as el recusado c endere o insuficiente ej n o procurado n o existe o n mero m ausente desconhecido falecido outros vencimento auto e asein do recebe o nlegiv l do reg bedor dbat e entrega dit destinat rio controle carimbo unidade de entrega fev jf rubrica e matricula arteiro r ', ' i correio p i j igs a nap cont i ti l t n t seed ggran dr gt ar data de postagem carimbo unidade de entrega fev pr jf destinat rio extrasul extratos animais e vegetais ltd lgo agetop agetop estrada ht km o tentativas de entrega c orre o i h firma zona rural h jaguapita pr h endere o centro l de para digitaliza o iiiil ar devolu o ilii i da dr lii do ag ar mjtiv sdadevolu o i i ii i i aten o ap s tr s tentativas de entrega emitiraviso de chegada e colocar o objeto em posta restante por sete dias iimudou se ia recusado eiendere o insufente rin o procurado a n o existe o n mero li ausente ci desconhecido ri falecido rubrica e matricula do man batis uza ao i pr carteiro ma bp placa aqu pr auto a encimento ri outros assinatura do recebedor ome le veldo recebedum rt a n d i jme nt e grg d cretran uor s vatt', 'notifica o de penalidade endere o para devolu ao do ar centralizador regional declara o de conte do opcional rubrica e matreculal i o nr a ci nt olho ri e c kia r j t me c data en egn n documento de identidade assinatura do recebedor nome legivel do recebedor ii ii ii ii ii iii iii n da notifica o de autua o auto r placa uf abm pr correiot destinat rio eneias lemos dos santos rua hugo da silva pereira lt gd centro jaguapita pr ar ag agko a a fev pr jf seed ggran dr go data de postagem tentativas de entrega motivo de devolu o mudou se el recusado oendere o insuficiente el n o procurado n o existe o n mero oausente esconhecido elfalecido outros h i i i h h aten o ap s a tentativa colocar o objeto em posta restante ', 'destinat rio c j d carneiro transportes me av jose moser lt od centro peabiru pr ar ag ii ii ii ii ii ii n da notifica o de autua o auto rooe assinatura do recebedor nome legivel do recebedor f endere o para devolu ao do ar centralizador regional tentativas de entrega h r h r h motivo de devolu o udou se recusado w ei ridere o insuficiente n o procurado el n o existe o n mero ausente o desconhecido falecido outros declara o d onte do opcional notifica o de penalidade carimbo unidade de entrega rubrica e matric la do carteiro i os co ageto aten o ap s a a tentativa colocar o objeto em posta restante seed ggranidr go data de rostagem a placa uf pr efreos data de entrega np documento de identidade', 'zi e i dade dme le iv l do receeedr aca auy pr auto a nap seediggran dr gt data de fostag em agetop ii ti iiii sinat a do feaebedou correio estinat rio j l diniz e cia ltda me rua oristiano machado firma campo belo londrina pr ar ag iii iii ii ndere o para devolu o do ar entro de digitaliza o da dr tentativas de entrega aten o ap s tr s tentativas de entrega emitir aviso chegada e colocar o objeto em posta restante p sete dias motivos da devolu o mudou se recusado e endere o insuficiente el n o procurado o net do carteiro data vendi fato bm trigo agetop correios h h h en o existe o n mero el ausente rub eldesconhecido el falecido outros leandro c dl m a p carimbo unidade de entrega r f x cp rn fev d tra', 'notifica o de autua o k seediggran dr g data de postagem rua gleba londrina i illi marcelino antonio faz destinat rio ii i pr pau sousa pisicchig ano ar li torres lt i ag i i i i liill lill el ii el ri el tentativas motivo de entrega h h de devolu o mudou se endere o insufic nte n o existe o n mero desconhecido outros h k ap s a colocar o objeto em posta restante n recusado n n o procurado n ausente el falecido carimbo unidade de entrega aten o q q o tentativa o o fev ai dfn s endere o para devolu ao do ar centralizador regional declara o de conte do opcional rubrica e matr cula do carteiro matrk l cdwl l ina o re rei sl cipp n da notifica o de autua o auto r placnue ak pr assinatura do recebedor rialil n a c l f c ataz niga zi nome legivel do recebedor nrldocumento de identidade l ', 'controle k correio l g a ji nap seed ggranuor gt ar data de poetagem ece mbo destinat rio vanuza brock epp agetop p dieco agetop v ntrega r r fev l rod br tentativas de entrega eortaf hh tes i sala centro j palhoca sc h endere o centro de para digitaliza o ar devolu o da dr iilli do i ag ar iii hl aten o ap s tr s tentativas de entrega emitir aviso de chegada e colocar o objeto em pasta restante por sete dias motivos da devolu o omudou se o recusado riiendere o insuficiente el n o procurado f l nii existe o n mero o ausente o nh ido o te falecido rubrica e matriculado carteiro c placa auto mge sc a wnciment rioutros assinrra reg edor u datrenjt ega c nome leolvel ho recebedor b i na oz l tmarlfl d e i da de cr tranzo watt', 'correio mom notifica o de penalidade serei goram ir go datado postagem agb p i destinat rio oilber ta leonara f kumaira r jucelino gomes cardoso lt carimbo unidade de entrega centro guanambi ba tentativas de entrega h h ar ag aten o ap s a tentativa colocar o objeto em post motivo de devolu o restante il ii ii ii h wi tv f n ert endere o para devolu o do ar centralizador regional o mudou se o recusado o endere o insuficiente o n o procurado o n o existe o n mero o ausente el desconhecido el falecido el outros declara o de conte do opcional a do carteiro rubrica e matr c n da notifca a de autua a auto r placaajf l ba assinsura d r bceb e dor x c nome leg vel do recebedor n dvaieat ii eu u', 'tentativas de entrega f v ao rei ietente assinatura do recebedor nome leg vel do recebedor rkljti i a con alves carteir r n documento de identidade data de entrega correio a seed ggran dr g k fil data de postagem pa o notifica o de autua o destinat rio alevio lorenzato bernasconi r gottlieb reif lt c d asilo blumenau sc ag iiii i h endere o para devolu ao do ar centralizador regional c p tiren motivo de devolu o mudou se m recusado endere o insufic ente o procurado ui n o existe o n mero usente izidese onlieddo el falecido el outros declara o de conte do opcional lari bo rubrica e matricula do carteiro iiiii aten o ap s a tentativg colocar o objeto em post restante ii plackue ml n sc n da notifica o de autua o auto r ', 'r controle correio r a g f nap seed ggran dr gt ar data de postagem carimbo unidade de enitir ga fet r j f destinat rio viviane lipke me dr go agetop agetop j euclides kliemann tentativas de entrega coraza s i sala centro ri agudo rs h endere o centro ii de para digitaliza o ii ar devolu o ii o da i dr do i ag ar ill ap s ea efi aten o chegada m tmeltuved ouslioaea s devolu o tr s tentativas de entrega e colocar o objeto em endere o insuficiente ni existe o n mero desconhecido ii i sj ei o emitir aviso de posta restante por recusada n o procurado ausente falecido rubrica e matricula do carteiro d jra j c ao ido rs y placa iut rs auto a ento iioutros e assinatura do recebedor nome legivel do recebedor ca n documento de identidade cl h ct c i cr tran golts tarr', ' igt a ra ag p correio seed ggran drjgo data de postagem notifica o de penalidade tentativas de entrega h r h r carimbo unidade de entrega destinat rio romancin i tasca ltda rodovia br km o lt aten o ap s a a tentativa colocar o objeto em posta restante trevo laranjeiras do sul pr ar ag o ii ii ii ii li motivo de devolu o o mudou se eirecusado el endere o insuficiente el n o procurado o n o existe o n mero ausente ul desconhecido i falecido i outros endere o para devolu o do ar centralizador regional declara o de conte do opcional n da notifica o de autua o auto placa lif atr pr ri g trei enute iskt de ci p z rteiro s datp ye c assinai ra do rege edor n documento de dezit idade nome le recebedo', ' p m seed ggran dr g data de postagem notifica o de autua o destinat rio jussara telma g castro dos santos rua godofredo guedes o lt od centro riacho de santana ba tentativas de entrega a h h oremofigtv aten o ap s a tentativa colocar o objeto em posta restante o fl pia o endere o para devolu o do ar centralizador regional motivo de devolu o elmudou se recusado ndere o insuficiente n o procurado el n o existe o n mero ausente el desconhecido ifalecido pnutros declara o de conte do opcional rubrica e matricula do carteiro n da notifica o de autua o auto r placnue nyw ba data de entregk r assinatura do recebedor nome legivel do recebedor n documento de identidade', 'notifica o de autua c o t t ro seed ggran dr go data de postagem destinat rio djalma teodoro silva filh tentativas de entrega h dr ge age op jf carimbo unidade de entrega i t pv f caminho urbis ilheus ba ii i lt i ii od ar ag i ii h h motivo de devolu o el mudou se e n n d o er e e o xis i t n e su o fie n ie n m le ero el outros im n e aten o ap s a tentativa colocar o objeto em posta restante recusado n au s o e p nt ro e curado endere o para devolu ao do ar centralizador regional declara o de conte do opcional rubrica e matricula do carteiro n da notifica o de autua o auto r placa uf gzm ba assinatura do recebedor d ta r en egi nome leg vel do recebedor n documento e identidade ', 'ome legivel co a a k t t ii ar ag ssinatura do recebedor j f agetop agetop trigo tentativas de entrega orreko h h h aten o ap s tr s tentativas de entrega emitir aviso de chegada e colocar o objeto em posta restante por sete dias motivos da devolu o omudou se recusado e endere o insuficiente e n o procurado rsimio existe o n mero elausente eldesconhecido el falecido outros correio wir mxtana itseed ggran dr gt data de pdstagem controle estinat rio adriano de andrade paulo transportes m rua guarani casa centro corumbatai do sul pr ndere o para devolu o do ar entro de digital za o da dr aca auto data de entre a ii acr pr a whicsiento carimbo unidade de entreoa rubrica e matricula do carteiro v ot cr trar goses fait j nt ', 'seed ggran dr g data de poetagem cori tels marp uy tentativas de entrega h h h destinat rio cerealista hillesheim ltda rod sc km cerro negro lt od cerro negro endere o para devolu o do ar centralizador regional motivo de devolu o m udou se el recusado endere o insuficiente n o procurado p n o existe o n mero ausente el desconhecido falecido outros np da notifica o de autua o auto r placa uf mgt sc o fl o o ii ituporanga sc dat eie entrega notifica o de penalidade carimbo unidade de entrega declara o de conte do opcional aten o ap s a tentativa colocar o objeto em posta restante n cym n dade fi n s pugo agetop ar ag assinaturoer nome leg vel do recebedit j r bric matr cula do carteiro vt jr ', 'seed ggran drigo data de postagem ag tentativas de entrega h h i motivo de devolu o mudou se recusado p endere o insuficiente n o procurado n o existe o n mero dausente f desconhecido g falecido p outros aten ao ap a te ative colocar o jeto em sta resta e fev notifica o de penalidade carimbo unicd e entrega y r i o c fng a e jr gr a aiiim correio destinat rio marcon comercio de pneus ltda rua padre anchieta lt cd centro palmitos sc ar ag ii hl ii iii ii rubrica e matricula do carteiro declara o de conte do opcional it ivi e isa mat de c idzim c mkci palrn tost endere o para devolu ao do ar centralizador regional placa uf mf sc n da notifica o de autua o auto r ass p i rl n m eeive ir f v z ade', 'controle dr go ag etop c aftoos h h h c agetop ii ii ii ii ii ii ii ii iii wi trfin na itseed ggran dr gt data de postagem tentativas de entrega aten o ap s tr s tentativas de entrega emitir aviso chegada e colocar o objeto em posta restante p reo sete dias motivos da devolu o m mudou se l recusado zdersoce insuficiente ao existe o n mero el n o procurado wausente wdesconhecido w falecido outros y d un data de entrega n documento de identidade estinatario carimbo de entrega laca au o asv pr a assinatura do recebedor j f t t c dietran cmas eip rubricx xlirnla do carteiro correio ome leg vel do recebedor rejane fatima lazarotto r das funcionarias casa marcelo irati pr ar ag endere o para devolu o do ar centro de digitaliza a da dr venciuen o ', 'seed ggran drjgo data de postagem correios inf i a min carimbo unidade de enzega cp v destinat rio fronteira agricola prod agropecuarios l avenida cleriston andrade s lt od vila brasil barreiras iza o remetente r iii li ii tentativas de entrega f aten o ap s a tentativa colocar o objeto em posta restante motivo de devolu o mudou se recusado ui endere o insufic ente ein o procurado pn o existe o n mero ausente desconhecido falecido el outros declara o de conte do opcional placa uf nyx ba data de entrega i l nome legivel do recebedor endere o para devolu ao do ar centralizador regional n da notifica o de autua o auto r assinatura do recebedor n documento de identidade ir brica matf culado car adeiro fern ndo f j u a mej notifica o de autua o', 'correios l c c seed ggran dr g data de postagem notifica o de penalidade destinat rio carimbo unidade de entrega agenor carlos lima bastos rua do contorno lt go iiiii e rr r r v barreiras ba o rof it r kl i l l i i ar ag aten ao ap s a tentativa colocar o objeto ffy em posta restante tentativas de entrega h h h h ii ii motivo de devolu o mudou se drecusado endere a insuficiente gn o procurado n o existe o n mero el ausente desconhecido el falecido el outros declara o de conteudo opcional rubrica e matricula do carteiro endere o para devolu o do ar centralizador regional r da notifica o de autua o auto roob filaca uf muy ba assinatura recebedor data de entrega nome leg vel do recebedor n documento de identidade orre aul i ', 'correio seediggran drigo data de postagem notifica o de penalidade destinat rio carla maria belo da silva r de maio lt qd d a rf agliop carimbo unidade de entrega primavera tentativas de entrega h h h barreiras ba ar ag aten o ap s a tentativa colocar o objetb em posta restante o o o endere o para devolu o do ar centralizador regional motivo de devolu o mudou se recusado endere o insuficiente n o procurado on o existe o n mero lilausente e desconhecido el falecido eloutros declara o de conte do opcional rubrica e matri a do carteiro n da notifica o de autua o auto r placa uf niy f ba assin r c i iloyb lf nom leg vel do recebedor b ekt b ra d p l e eprg fka a ', 'ap s tenta tia colocar o obj to em po restante motivo de devolu o recusado endere o insuficiente ein o procurado i n o existe o n mero i ausente desconhecido falecido eioutros iiii iii ii ii ii igia endere o para devolu o do ar centralizador regional n da notifica o de autua o auto r assinatura do recebedor nome leg vel do recebedor declara o de conte do opcional plackuf la ba data de entrega i n documento de identidade correio notifica o de penalidade r ida f r ga j rubrica e matr cula do carteiro i ilskn f tk seediggran dr go data de poetagem ag p tentativas de t i j i i i inat rio c consult e r p ro paulo con portao lauro de frutas ba ar ag', 'ii o h carimbo unidade de entrega co i uf a a seed ggran dr g data de postagem i endere o para devolu o do ar centralizador regional declara o de conte do opcional correio notifica o de penalidade rubrica e matricula do carteiro n da notifica o de autua o auto r aos recebedor j ci t tl nom y placa uf rs n destinat rio fernando raymundo fraga rua sao leopoldo lt cd mathias velho canoas rs ar ag n e l rr dat tentativas de entrega h h h motivo de devolu o al mudou se e recusado elendere o insuficiente el n o procurado n o existe o n rnero wausente ei desconhecido l falecdo e outros aten o ap s a a tentativa colocar o objeto em posta restante o', ' seed ggran dr go op data de postagem notifica o de autua o destinat rio elias goncalves mayer rua humberto de alencar castel lt od bela vista alvorada rs tentativas de entrega h h h aten o ap s a tentativa colocar o objeto em posta restante ar ag carimbo unidade de en trega s j c e jt p j motivo de devolu o o mudou se recusado enderece insuficiente n o procurado n o existe o n mero ausente desconhecido falecido outros ii ii lo ii li ii ii ii iii ii endere o para devolu o do ar centralizador regional rubrica e matricula do carteiro declara o de conte do opcional n da not f a o de autua o auto roo placame ima rs as inatu d recebedor data t p li tr u j d is e ut k i pa v correio ', 'controle carimbo unidade de entrega nait seed ggftan dr gt correio a a destinat rio madeireira maravilha ltda rua indio sepe santo operario canoas rs ar ag iii ii endere o para devolu o do ar centro de digitaliza o da dr auto vencimento a data de postagem a p aten o ap s tr s tentativas de entrega emitir aviso de chegada e colocar o objeto em posta restante por sete dias motivos da devolu o mudou se mrecusado endere o insuficiente ejn o procurado el n o existe o n mero li ausente desconhecido el falecido l outros ii placa ikf s agetop tentativas de entrega h h f rubrica e mat k a dereiro a rw l n assinatti decebedor data de enrg ii nome legis f recebedor v b v n dozu iento de ident wyqe s d miran uolas rait', ' i tvidzwit data de postagem agsiop seed ggran drjgo notifica o de penalidade destinat rio arlindo transportes ltda rua luiz de camoes lt cd i inr c rre tentativas de entrega i h h centro canoas rs ar ag aten o ap s a tentativa colocar o objeto em posta restante h endere o para devolu ao do ar centralizador regional motivo de devolu o e mudou se recusado ui endere o insuficmnte n o procurado n o ex ste o n mero ausente el desconhecido el falecido outros declara o de conte do opcional rubrica e matricula do carteiro n da notifica o de autua o auto r luci placa uf iut rs assinatura do recebedor de ffliede goffeios nom l cebedor qs y pnup lqqj edvt n carimbo unidade de entrega', 'agetop data de entreqa i o l j iiii correios ig a nap seed goran dr gt data de postagem controle destinat rio transportes mg lima ltda rua sarmento leite m velho canoas rs ar ag ii iii liii iii endere o para devolu o do ar centro de digitaliza o da dr auto a assinatura do recebedor nome legivegr rec i ebedor k o rk tentativas de entrega aten o ap s tr s tentativas de entrega emitir aviso de chegada e colocar o objeto em posta restante p r sete dias motivos da devolu o ffi mudou se ffi recusado endere o insuficiente n o procurado ifi n o existe o n mero ffi ausente ejdesconhecido eifalecido outros nero c c um qtgde i delt ou placa ieb rs wizi c dei agetop corre manoel n da lw mtr aaente eiy reiof bc trega rubrica e matricula do carteiro l ul vencimento atrai h unias watt', 'r rgs e tta nzo irs atan ar px correio naitseed ggran drjgt data de postagem controle placa iub rs assttv ecebedor nome legniel do recebedor auto ad e ija c hlh z vencmento agetop p agetop tentativas de entrega orre h h h aten o ap s tr s tentativas de entrega emitir aviso de chegada e colocar o objeto em posta restante por crt s t dias motivos da devolu o mudou se e endere o insuficiente e n o existe o n mero desconhec do outros data de entrega n documente de identidade b carimbo unidade de entreca i talj rnip matricnla do carteiro l j f rj destinatarioz jogasa transportes ltda epp rua irineu gustavo buchmann vila rica feliz rs ar ag ii ii endere o para devolu o do ar centro de digital za o da dr e recusado n o procurado ausente faleck o', 'oestinatario gambatto h veiculos ltda rua fernando machado casa s cristovao chapeco sc ll ar ag endere o para devolu o do ar centro de digitaliza o da dr placa mip sc adio a vencimento p dnoc agetop agetop tentativas de entrega corre h h aten o ap s tr s tentativas de entrega emitiraviso de chegada e colocar o objeto em posta restante por sete dias motivos da devolu o mudou se e recusado endere o insuficiente n o procurado eln o existe o n mero ausente eidesconhecido falecido ijjoutros seed ggrani dr gt data de postagem ii controle rubrica e matricula do carteiro xx h nap carimbo unidade de entrega fev jf assinatui k receefflor i r nome leg vel do recebedor ottrenz olasiivaft da a de n documento de identidade', ' correio destinat rio fey r briga e matricula do carteiro lzmaci ge tde correios mat controle na itseed ggran or ot data de postagem ii m agetop correios h h h carimbo unidade de entrega plaga ml sc auto a vencimendy assinr esed r r nome leg vel do recebedor agetop tentativas de entrega aten o ap s tr s tentativas de entrega emitir aviso de chegada e colocar o objete em posta restante por sete dias motivos da devolu o mmudou se rirecusado elendere o insuficiente ie n o procurado n o existe o n mero m ausente r tt desconhecido el falecido outros y nb o ument q de ide on lyade transporte batista e comercio de madeira rod sc km fundos corridas orleans sc ar ag ii ii endere o para devolu o do ar centro de digitalizacao da dr ditranoms cfalt', 'igi a ffir a correio controle nap seed ggran dr gt data de poetagem destinat rio transporte batista e comercio de madeira rod sc km fundos corridas orleans sc ar i ii endere o para devolu o do ar centro de digitaliza a da dr placa auto mlh sc a le mago agetop tentativas de entrega ck aae osf h h aten o ap s tr s tentativas de entrega emitir aviso de chegada e colocar o objeto em posta restante por sete dias motivos da devolu o ifimudou se rn recusado endere o insuficiente na procurado ieineo existe o n mero ei ausente desconhecido el falecido outros carimbo unidade de entrega fev jf ruibrica e matricula do carteiro ii nencipento agetop h ii tirado assi recebedor datajde entreoa mat nome legivel do recebedor n dc mment de ide jtde r gg d tron toias nait', ' t se ed ggran dr gt data de postagem aok o sigo agetop agetop tentativas de entrega ctrre os h h aten o ap s tr s tentativas de entrega emitir aviso de chegada e colocar o objeto em posta restante por sete dias motivos da devolu o mudou se m recusado endere o insuficiente n o procurado n o existe o n mero m ausente desconhecido ri falecido outros data d umento controle carimbo unicadb eitrega fev rub ica e matricula do carteiro luk v a agente de correios mat auto a sencirencio ca mll sc na estinatario transporte batista e comercio de madeira rod c km fundos corridas orleans sc ar ag ii ii were o para devolu o do ar entro de digitaliza ao da dr sin ra do recebedor a e legimel do recebedor eira c olas atar', 'controle l correio a i na p seediggrantdr data ar data de postagem aca dp c rimbo unid ega destinat rio transportes galera ltda me trigo agetop agetop j j f ev f s c rua athanazio a bernardes tentativas de entrega c orre os i h sala centro h tijucas sc h endere o centro ii de i para ilii digitaliza o ar o ii ii devolu o o da hl dr do ii ar ag i ii aten o ap s tr s tentativas de entrega emitir aviso de chegada e colocar a objeto em posta restante por sete dias motivos da devolu o imudou se i recusado elendere o insuficiente el n o procurado eg n o existe o n mero el ausente a desconhecido rifalecido rubrica e mai i garte ricu o caneiro placa mft sc auto a umente outros assinatura do recebedor i data ri i nome legivel do recebedor i r ai c u r c n doo m n o e i entid l t n j det de watt', 'carimbo unidade de entrega fc ar ag ii ii iii iii ii ii agl rubrica e matikla d a ee ggran dr g data de postagem correio kl i notifica o de autua o destinat rio andre cristiano liberato rua monsenhor augusto zucco li gd centro tijucas sc endere o para devolu ao do ar centralizador regional n da notifica o de autua o auto r assinatura do recebedor nome legivel do recebedor tentativas de entrega j o eten te tativ s a a colocar o bjs o em po a motivo de devolu o resta n e o mudou se o recusado p endere o insuficonte nao procurado o n o existe o n mero ausente desconhecido falecido o outros declara o de conte do opcional placa uf mle sc data de entrega n documento de identidade', 'seed ggran drig data de postag em ag correios notifica o de penalidade s dwc agetop rre destinat rio santelmo cardoso de souza est geral boa esperanca o lt qd tentativas de entrega h r h ri t h boa esperanca aten o ap s a a tentativa colocar o objeto em posta restante sombrio sc ey c motivo de devolu o mudou se ui recusado endere o insufic ente n o procurado eln o existe o n mero elausente desconhecido m falecido el outros ar ag o o endere o para devolu o do ar centralizador regional declara o de conte do opcional rubrica e matricula do carteiro o n da notifica o de autua o auto r rlaca uf csy sc f inatu recebedor nome legivel do recebedor a ni tclivw d s n documento de identidade data de entrega fill ', 'controle correio nap a g agetop data dtntrta m t sombrio sc ll ii il ii e tentativas de entrega aten o ap s tr s tentativas de entrega emitir aviso de chegada e colocar o objeto em posta restante por sete dias motivos da devolu o mudou se rj recusado endere o insuficiente n o procurado mn o existe o n mero ei ausente eldesconhecido ei falecido ejoutros q inaepit e d identidade destinat rio carimbo unidade de entre placa csy sc auto a vencnento ainiatbra ece nome leg vel do recebedor c diugo agetop c okne os h h h f ev sc jf rubrica e matricula do o rte ro o ditran uolas sfait reeiivggran dr gt data de portagem santelmo cardoso de souza est gerau boa esperanca o casa boa esperanca ar ag endere o para devolu o do ar centro de digitaliza o da dr', 'seed ggran dr go data de postagem correio mil ag notifica o de penalidade destinat rio transportes vvn ltda me epp rua vvaldemiro neidert lt od carimbo unidade de entrega boei imervvald tentativas de entrega i h h h sao bento do sul sc ar ag aten o ap s a a tentativa colocar o objeto em posta restante ii ii ii ii o ii motivo de devolu o mudou se elrecusado endere o insuficiente gn o procurado n o existe o n mero dausente gdesconhecido falecido goutros endere o para devolu o do ar centralizador regional rubrica e matricula do carteiro declara o de conteudo opcional n da notifica o de autua o auto r placa uf m sc assinatura do rweeixdor mo n n t t k data de entren nome leg vel do recebedor n doc mento d jdeli t idade deso mat q ', 'iii h o o aten o ap s a e tentativa colocar o objeto em posta restante motivo de devolu o mudou se precusado endere o insuficiente ne procurado n o existe o n mero eauserrte e desconhecido iii falecido goutros nome legive do r dor a natura d ec b or declara o de conte do opcional notifica o de penalidade carimbo unidade de entrega c rubrica e matricula do carteiro correio endere o para devolu o do ar centralizador regional jr p fm seed ggramor g data de postagem f tentativas de entrega h h h placa uf mih sc data eni tregil rt n dovyen melst idade gt t fgh ene py zo in da notifica o de autua o auto r destinat rio transportadora bonessi ltda rod br lt nova brasilia joinville sc ar ag', ' s pr eres mal correio i kg a naitseed ggran dr gt data de poetagem a controle placa hsj mt uto a dmento i trigo agetop ag etop tentativas de entrega corre h h h aten o ap s tr s tentativas de entrega emitir aviso de chegada e colocar o objeto em posta restante por sete dias motivos da devolu o elmudou se el recusado elendere o insuficiente oms procurado e l n o existe o n mero el ausente eldesconhecido el falecido outros data de entrega n documento de identidade cacime o u dafentega tt s fe v k rubrica e matriculado carteiro destinat rio humberto pereira da silva faz mano julio o casa zona rural ipiranga do norte mt ar ag bit iiii endere o para devolu o do ar centro de digitaliza o da dr assinatura do recebedor o remete e nome legivel do recebedor wtran uoms va', 'seed ggftan dr g data de postagem correio notifica o de penalidade tentativas de entrega i h i h carimbo unidade de entrega destinat rio djiovani thiago dos cerneck est linha moroco o lt qd faz falcao roxo sorriso mt o fev ar ag motivo de devolu o mudou se el recusado endere o insuficiente n o procurado gn o existe o n mero ausente desconhecido ej falecido e outros aten o ap s a e tentalivq colocar o objeto em posto restant i ii ii ii ii ii endere o para devolu ao do ar centralizador regional rubrica e matricula do carteiro declara o de conte do opcional n da notifica o de autua o auto r placaaje npd mt assinatura co recebedor a a nome legivel do recebedor kjt tit ni documento de identidade data de entrega ', ' r fg agerop rre rubrica e ma gula do carteiro k g aten o ap s a tentativa colocar o objeto em posta restante destinat rio expresso federal tran sp e turismo ltda av transnordestina lt od parque ipe feira de santana ba se ed ggran drigo data de postagem tentativas de entrega h h h motivo de devolu o el mudou se i recusado el endere o insuficente el n o procurado n o existe o n mero el ausente eidesconhecido m falecido outros notifica o de autua o carimbo unidade de entrega ar ag iiii ii ii ii endere o para devolu o do ar centralizador regional n da notifica o de autua o auto placa uf r jrx ba a sina do rec edor z nome leg vel div kecebedor data de entrega v a d ciim ent de identidade d o g declara o de conte do opcional ', 'seed ggran dirjgo data de postagem notifica o de penalidade carimbo unidade de entrega destinat rio classic importacao rod prt km a getw eportacao de cour x parque industrial tentativas de entrega h r h h jardim alegre pr fig ar m o aten o ap s a tentativa colocar o objeto em posta restante fev ii ii ii ti ii ii endere o para devolu o do ar centralizador regional motivo de devolu o mudou se elrecusado elendere o insuficiente n o procurado n o existe o n mero ausente eldesconhecido elfalecido o outros declara o de conte do opcional rubrica e matricula do carteiro n da notifica o de autua o auto r placaiuf ata pr do receb dor nom e z i vel do recebedo ana p a lirlaesteves g pa icula ag de correu dm alegrei n documento de identidade i da tade entrega ', 'correiot eed ggran drig data de postagem notifica o de autua o rua jeferson aldeota l fortaleza vicente li li destinat rio i ce patrick il linhares i ar ag prospero miii lt qd i f el tentativas l motivo ullfludou se en oexisteon mero de entrega h h h de devolu o endere o ins uficiente n desconhecdo f outros jf i v orrk aten o j ap s a tentativa colocar o objeto em posta restante n recusado n o procurado e ausente efaiecdo i l s carimbo unidade de e n t r r eqa j r b e z i rt ii endere o para devolu a do ar centralizador regional declara o de conte do opcional rub e matricula do cartei q j os pau lu carteiro mat n da notifica o de autua o auto r placa uf j ce assinatura do recebedor data de entrega nome legivel recebedor n documento de identidade', 'seed ggran dr g data de postagem agiiop n correio notifica o de penalidade igi a tentativas de entrega h r h s r g ailvltop ep destinat rio bradesco leasing s arrend mercantil avenida jo o martins lt co chavantes novo chavantes sp motivo de devolu o omudou se el recusado endere o insuficiente un o procurado n o existe o n mero wausenle a desconhecido a falecido outros aten o ap s a tentativ colocar o objet em posta restante ar ag ii ii ii ii ii declara o de conte do opcional endere o para devolu ao do ar centra iredor regional placnuf flic sp n da notifica o de autua o auto r datwe assinatura do recebedor poa slen s x rvuni n documento de identidade i j rubrica e trioulwokrteiro p op a cyclx nome legivel do recebedor c rn fr ', 'seediggran dr g data de postagem ao correio notifica o de penalidade igia tentativas de entga carimbo unidade de entrega destinat rio wuney goncalves de medeiros r mario antonio nascimento lt cd i jd morumby aten o ap s a tentativa colocar o objeto em posta restante ibitinga sp motivo de devolu o elmudou se el recusado el endere o insuficiente el n o procurado ein o existe o namoro el ausente desconhecido falecido el outras ar a o o ii o o o declara o de conte do opcional endere o para devolu ao do ar centralizador regional placnuf ede sp ni da notifica o de autua o auto r dat iii r egtik rubrica e matricuopcarteiro mallaan n me legi vel do receb or the nrumentopsidentidade mo ', 'naitseediggran dr gt a p agetop tentativas de entrega corfroo h h h aten o ap s tr s tentativas de entrega emitir aviso de chegada e colocar o objeto em posta restante por sete dias motivos da devolu o elmudou se el recusado el endere o insuficiente el na procurado eln o existe o n mero el ausente eldesconhecido el falecido f outros da i tawe e nt a rega eioci ci iine i nt b e entidade nfrs controle igr a placa auto wnciment c v sp a s tljro rtedebedor lr c rj tu o yvnp e leg vel do recebedor dedo agetop correio d trangbias ffait data de poetagem destinat rio transportes wilton pereira ltda me av jo o soares da costa chac saltinho iritinga sp ar ag iii endere o para devolu ao do ar centro de dig taliza o da dr o g f fev jf rio neiro c nl ex i r librica e ii', ... ]"
      ]
     },
     "execution_count": 29,
     "metadata": {},
     "output_type": "execute_result"
    }
   ],
   "source": [
    "arquivos['clean']"
   ]
  }
 ],
 "metadata": {
  "kernelspec": {
   "display_name": "Python 2",
   "language": "python",
   "name": "python2"
  },
  "language_info": {
   "codemirror_mode": {
    "name": "ipython",
    "version": 2
   },
   "file_extension": ".py",
   "mimetype": "text/x-python",
   "name": "python",
   "nbconvert_exporter": "python",
   "pygments_lexer": "ipython2",
   "version": "2.7.11"
  }
 },
 "nbformat": 4,
 "nbformat_minor": 0
}
