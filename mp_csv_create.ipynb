{
 "cells": [
  {
   "cell_type": "code",
   "execution_count": 10,
   "metadata": {
    "collapsed": false
   },
   "outputs": [],
   "source": [
    "import pandas as pd\n",
    "import re\n",
    "import ijson\n",
    "import nltk\n",
    "from unidecode import unidecode\n",
    "from nltk.corpus import stopwords"
   ]
  },
  {
   "cell_type": "code",
   "execution_count": 11,
   "metadata": {
    "collapsed": true
   },
   "outputs": [],
   "source": [
    "nome_arquivo = 'acervo_mp.json'\n",
    "#nome_arquivo = 'acervo_mp_subset.json'\n",
    "nome_arquivo_csv = 'dump_mp.csv'\n",
    "#nome_arquivo_csv = 'dump_mp_subset.csv'"
   ]
  },
  {
   "cell_type": "code",
   "execution_count": 12,
   "metadata": {
    "collapsed": false,
    "scrolled": true
   },
   "outputs": [],
   "source": [
    "stops = stopwords.words(\"portuguese\")\n",
    "stops.extend(['i','ii','iii','iv','v', 'vi', 'vii', 'viii', 'ix', 'xi', 'xii', 'xiii', \\\n",
    "              'xiv', 'xv', 'xvi', 'xvii', 'xviii', 'xix', 'xx', 'h', 'a', 'b', 'c', \\\n",
    "              'd', 'e', 'f', 'g', 'h', 'j', 'k', 'l', 'm', 'n', 'o', 'p', 'q', 'r', \\\n",
    "              's', 't', 'u', 'v', 'w', 'x', 'y', 'z'])\n",
    "stops = set(stops)"
   ]
  },
  {
   "cell_type": "code",
   "execution_count": 13,
   "metadata": {
    "collapsed": true
   },
   "outputs": [],
   "source": [
    "def clean_text(text):\n",
    "    list_of_cleaning_signs = ['\\x0c', '\\n', '\\r']\n",
    "    text = unidecode(text.replace('-\\n', ''))\n",
    "    for sign in list_of_cleaning_signs:\n",
    "        text = text.replace(sign, ' ')\n",
    "        text = re.sub(\"[^a-zA-Z]\", \" \", text)\n",
    "    return text.lower()"
   ]
  },
  {
   "cell_type": "code",
   "execution_count": 14,
   "metadata": {
    "collapsed": true
   },
   "outputs": [],
   "source": [
    "def text_to_wordlist( text, remove_stopwords=True ):\n",
    "    # Function to convert a text to a sequence of words,\n",
    "    # optionally removing stop words.  Returns a list of words.\n",
    "    #\n",
    "    # 1. Clean the text keeping only lower case, unnaccented words\n",
    "    #\n",
    "    text = clean_text(text)\n",
    "    #\n",
    "    # 2. Split text into words\n",
    "    #\n",
    "    words = text.split()\n",
    "    #\n",
    "    # 3. Optionally remove stop words (true by default)\n",
    "    if remove_stopwords:\n",
    "        words = [w for w in words if not w in stops]\n",
    "    #\n",
    "    # 4. Return the list of words\n",
    "    return(words)"
   ]
  },
  {
   "cell_type": "code",
   "execution_count": 15,
   "metadata": {
    "collapsed": true
   },
   "outputs": [],
   "source": [
    "def get_clean_text(row):\n",
    "    return ' '.join(text_to_wordlist(row))"
   ]
  },
  {
   "cell_type": "code",
   "execution_count": 16,
   "metadata": {
    "collapsed": false
   },
   "outputs": [
    {
     "name": "stdout",
     "output_type": "stream",
     "text": [
      "41283\n",
      "CPU times: user 24 µs, sys: 3 µs, total: 27 µs\n",
      "Wall time: 29.8 µs\n"
     ]
    }
   ],
   "source": [
    "texts = []\n",
    "with open(nome_arquivo, 'r') as f:\n",
    "    objects = ijson.items(f, 'item')\n",
    "    for row in objects:\n",
    "        texts.append(get_clean_text(row['api_Arquivo_bn']))\n",
    "%time print(len(texts))"
   ]
  },
  {
   "cell_type": "code",
   "execution_count": 17,
   "metadata": {
    "collapsed": true
   },
   "outputs": [],
   "source": [
    "dataframe = pd.DataFrame(texts, columns=['clean'])"
   ]
  },
  {
   "cell_type": "code",
   "execution_count": 18,
   "metadata": {
    "collapsed": false
   },
   "outputs": [],
   "source": [
    "dataframe.to_csv('Corpus/' + nome_arquivo_csv, encoding='utf-8', columns=['clean'], index=False, header=False)"
   ]
  },
  {
   "cell_type": "code",
   "execution_count": null,
   "metadata": {
    "collapsed": true
   },
   "outputs": [],
   "source": []
  }
 ],
 "metadata": {
  "kernelspec": {
   "display_name": "Python 2",
   "language": "python",
   "name": "python2"
  },
  "language_info": {
   "codemirror_mode": {
    "name": "ipython",
    "version": 2
   },
   "file_extension": ".py",
   "mimetype": "text/x-python",
   "name": "python",
   "nbconvert_exporter": "python",
   "pygments_lexer": "ipython2",
   "version": "2.7.11"
  }
 },
 "nbformat": 4,
 "nbformat_minor": 0
}
