{
 "cells": [
  {
   "cell_type": "code",
   "execution_count": 1,
   "metadata": {
    "collapsed": true
   },
   "outputs": [],
   "source": [
    "from gensim.models import Word2Vec\n",
    "from gensim.models.word2vec import LineSentence"
   ]
  },
  {
   "cell_type": "code",
   "execution_count": 3,
   "metadata": {
    "collapsed": true
   },
   "outputs": [],
   "source": [
    "model = Word2Vec.load('Corpus/wiki.pt.word2vec.model')"
   ]
  },
  {
   "cell_type": "code",
   "execution_count": 3,
   "metadata": {
    "collapsed": false
   },
   "outputs": [
    {
     "data": {
      "text/plain": [
       "[(u'rainha', 0.5662194490432739),\n",
       " (u'esposa', 0.5622749328613281),\n",
       " (u'concubina', 0.5299831032752991),\n",
       " (u'consorte', 0.5075284242630005),\n",
       " (u'infanta', 0.49200335144996643),\n",
       " (u'vi\\xfava', 0.48480260372161865),\n",
       " (u'princesa', 0.4835645258426666),\n",
       " (u'sobrinha', 0.48282304406166077),\n",
       " (u'filha', 0.4742720127105713),\n",
       " (u'madrasta', 0.47308194637298584)]"
      ]
     },
     "execution_count": 3,
     "metadata": {},
     "output_type": "execute_result"
    }
   ],
   "source": [
    "model.most_similar(positive=['mulher', 'rei'], negative=['homem'])"
   ]
  },
  {
   "cell_type": "code",
   "execution_count": 4,
   "metadata": {
    "collapsed": false
   },
   "outputs": [
    {
     "data": {
      "text/plain": [
       "[(u'rapaz', 0.6157573461532593),\n",
       " (u'garoto', 0.5262719988822937),\n",
       " (u'bandido', 0.5114439725875854),\n",
       " (u'menino', 0.4947238266468048),\n",
       " (u'algu\\xe9m', 0.4936826527118683),\n",
       " (u'dem\\xf4nio', 0.4902143180370331),\n",
       " (u'perverso', 0.4848281145095825),\n",
       " (u'forasteiro', 0.4834143817424774),\n",
       " (u'monstro', 0.48078203201293945),\n",
       " (u'mentiroso', 0.4787161946296692)]"
      ]
     },
     "execution_count": 4,
     "metadata": {},
     "output_type": "execute_result"
    }
   ],
   "source": [
    "model.most_similar('homem')"
   ]
  },
  {
   "cell_type": "code",
   "execution_count": 5,
   "metadata": {
    "collapsed": false
   },
   "outputs": [
    {
     "data": {
      "text/plain": [
       "[(u'esposa', 0.679573655128479),\n",
       " (u'prostituta', 0.6484521627426147),\n",
       " (u'menina', 0.6215522289276123),\n",
       " (u'mo\\xe7a', 0.6202722787857056),\n",
       " (u'rapariga', 0.6137908101081848),\n",
       " (u'enteada', 0.6073764562606812),\n",
       " (u'sogra', 0.597029447555542),\n",
       " (u'filha', 0.59571373462677),\n",
       " (u'm\\xe3e', 0.5890335440635681),\n",
       " (u'vi\\xfava', 0.5870585441589355)]"
      ]
     },
     "execution_count": 5,
     "metadata": {},
     "output_type": "execute_result"
    }
   ],
   "source": [
    "model.most_similar('mulher')"
   ]
  },
  {
   "cell_type": "code",
   "execution_count": 2,
   "metadata": {
    "collapsed": true
   },
   "outputs": [],
   "source": [
    "mp_model = Word2Vec.load(\"Corpus/mp.word2vec.model\")"
   ]
  },
  {
   "cell_type": "code",
   "execution_count": 7,
   "metadata": {
    "collapsed": false
   },
   "outputs": [
    {
     "data": {
      "text/plain": [
       "[(u'passivo', 0.7056471109390259),\n",
       " (u'imobilizado', 0.6742945909500122),\n",
       " (u'intangivel', 0.6587451100349426),\n",
       " (u'expiram', 0.6513670086860657),\n",
       " (u'quitar', 0.6503801941871643),\n",
       " (u'inativo', 0.6152374744415283),\n",
       " (u'baixa', 0.6019747257232666),\n",
       " (u'fisico', 0.5979092121124268),\n",
       " (u'impacto', 0.5952948331832886),\n",
       " (u'orcamentario', 0.5828989148139954)]"
      ]
     },
     "execution_count": 7,
     "metadata": {},
     "output_type": "execute_result"
    }
   ],
   "source": [
    "mp_model.most_similar(['ativo', 'financeiro'])"
   ]
  },
  {
   "cell_type": "code",
   "execution_count": null,
   "metadata": {
    "collapsed": true
   },
   "outputs": [],
   "source": []
  }
 ],
 "metadata": {
  "kernelspec": {
   "display_name": "Python 2",
   "language": "python",
   "name": "python2"
  },
  "language_info": {
   "codemirror_mode": {
    "name": "ipython",
    "version": 2
   },
   "file_extension": ".py",
   "mimetype": "text/x-python",
   "name": "python",
   "nbconvert_exporter": "python",
   "pygments_lexer": "ipython2",
   "version": "2.7.11"
  }
 },
 "nbformat": 4,
 "nbformat_minor": 0
}
